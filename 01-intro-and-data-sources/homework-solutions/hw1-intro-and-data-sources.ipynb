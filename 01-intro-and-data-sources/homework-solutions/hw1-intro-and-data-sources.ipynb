{
 "cells": [
  {
   "cell_type": "code",
   "execution_count": 4,
   "id": "4c0f88b7",
   "metadata": {},
   "outputs": [
    {
     "name": "stdout",
     "output_type": "stream",
     "text": [
      "Requirement already satisfied: yfinance in /opt/anaconda3/lib/python3.12/site-packages (0.2.61)\n",
      "Requirement already satisfied: pandas>=1.3.0 in /opt/anaconda3/lib/python3.12/site-packages (from yfinance) (2.2.2)\n",
      "Requirement already satisfied: numpy>=1.16.5 in /opt/anaconda3/lib/python3.12/site-packages (from yfinance) (1.26.4)\n",
      "Requirement already satisfied: requests>=2.31 in /opt/anaconda3/lib/python3.12/site-packages (from yfinance) (2.32.3)\n",
      "Requirement already satisfied: multitasking>=0.0.7 in /opt/anaconda3/lib/python3.12/site-packages (from yfinance) (0.0.11)\n",
      "Requirement already satisfied: platformdirs>=2.0.0 in /opt/anaconda3/lib/python3.12/site-packages (from yfinance) (3.10.0)\n",
      "Requirement already satisfied: pytz>=2022.5 in /opt/anaconda3/lib/python3.12/site-packages (from yfinance) (2025.1)\n",
      "Requirement already satisfied: frozendict>=2.3.4 in /opt/anaconda3/lib/python3.12/site-packages (from yfinance) (2.4.2)\n",
      "Requirement already satisfied: peewee>=3.16.2 in /opt/anaconda3/lib/python3.12/site-packages (from yfinance) (3.18.1)\n",
      "Requirement already satisfied: beautifulsoup4>=4.11.1 in /opt/anaconda3/lib/python3.12/site-packages (from yfinance) (4.12.3)\n",
      "Requirement already satisfied: curl_cffi>=0.7 in /opt/anaconda3/lib/python3.12/site-packages (from yfinance) (0.11.1)\n",
      "Requirement already satisfied: protobuf>=3.19.0 in /opt/anaconda3/lib/python3.12/site-packages (from yfinance) (5.29.3)\n",
      "Requirement already satisfied: websockets>=13.0 in /opt/anaconda3/lib/python3.12/site-packages (from yfinance) (15.0.1)\n",
      "Requirement already satisfied: soupsieve>1.2 in /opt/anaconda3/lib/python3.12/site-packages (from beautifulsoup4>=4.11.1->yfinance) (2.5)\n",
      "Requirement already satisfied: cffi>=1.12.0 in /opt/anaconda3/lib/python3.12/site-packages (from curl_cffi>=0.7->yfinance) (1.16.0)\n",
      "Requirement already satisfied: certifi>=2024.2.2 in /opt/anaconda3/lib/python3.12/site-packages (from curl_cffi>=0.7->yfinance) (2024.8.30)\n",
      "Requirement already satisfied: python-dateutil>=2.8.2 in /opt/anaconda3/lib/python3.12/site-packages (from pandas>=1.3.0->yfinance) (2.9.0.post0)\n",
      "Requirement already satisfied: tzdata>=2022.7 in /opt/anaconda3/lib/python3.12/site-packages (from pandas>=1.3.0->yfinance) (2023.3)\n",
      "Requirement already satisfied: charset-normalizer<4,>=2 in /opt/anaconda3/lib/python3.12/site-packages (from requests>=2.31->yfinance) (3.4.1)\n",
      "Requirement already satisfied: idna<4,>=2.5 in /opt/anaconda3/lib/python3.12/site-packages (from requests>=2.31->yfinance) (3.7)\n",
      "Requirement already satisfied: urllib3<3,>=1.21.1 in /opt/anaconda3/lib/python3.12/site-packages (from requests>=2.31->yfinance) (2.0.7)\n",
      "Requirement already satisfied: pycparser in /opt/anaconda3/lib/python3.12/site-packages (from cffi>=1.12.0->curl_cffi>=0.7->yfinance) (2.21)\n",
      "Requirement already satisfied: six>=1.5 in /opt/anaconda3/lib/python3.12/site-packages (from python-dateutil>=2.8.2->pandas>=1.3.0->yfinance) (1.16.0)\n",
      "Note: you may need to restart the kernel to use updated packages.\n",
      "Requirement already satisfied: pandas-datareader in /opt/anaconda3/lib/python3.12/site-packages (0.10.0)\n",
      "Requirement already satisfied: lxml in /opt/anaconda3/lib/python3.12/site-packages (from pandas-datareader) (5.3.1)\n",
      "Requirement already satisfied: pandas>=0.23 in /opt/anaconda3/lib/python3.12/site-packages (from pandas-datareader) (2.2.2)\n",
      "Requirement already satisfied: requests>=2.19.0 in /opt/anaconda3/lib/python3.12/site-packages (from pandas-datareader) (2.32.3)\n",
      "Requirement already satisfied: numpy>=1.26.0 in /opt/anaconda3/lib/python3.12/site-packages (from pandas>=0.23->pandas-datareader) (1.26.4)\n",
      "Requirement already satisfied: python-dateutil>=2.8.2 in /opt/anaconda3/lib/python3.12/site-packages (from pandas>=0.23->pandas-datareader) (2.9.0.post0)\n",
      "Requirement already satisfied: pytz>=2020.1 in /opt/anaconda3/lib/python3.12/site-packages (from pandas>=0.23->pandas-datareader) (2025.1)\n",
      "Requirement already satisfied: tzdata>=2022.7 in /opt/anaconda3/lib/python3.12/site-packages (from pandas>=0.23->pandas-datareader) (2023.3)\n",
      "Requirement already satisfied: charset-normalizer<4,>=2 in /opt/anaconda3/lib/python3.12/site-packages (from requests>=2.19.0->pandas-datareader) (3.4.1)\n",
      "Requirement already satisfied: idna<4,>=2.5 in /opt/anaconda3/lib/python3.12/site-packages (from requests>=2.19.0->pandas-datareader) (3.7)\n",
      "Requirement already satisfied: urllib3<3,>=1.21.1 in /opt/anaconda3/lib/python3.12/site-packages (from requests>=2.19.0->pandas-datareader) (2.0.7)\n",
      "Requirement already satisfied: certifi>=2017.4.17 in /opt/anaconda3/lib/python3.12/site-packages (from requests>=2.19.0->pandas-datareader) (2024.8.30)\n",
      "Requirement already satisfied: six>=1.5 in /opt/anaconda3/lib/python3.12/site-packages (from python-dateutil>=2.8.2->pandas>=0.23->pandas-datareader) (1.16.0)\n",
      "Note: you may need to restart the kernel to use updated packages.\n"
     ]
    }
   ],
   "source": [
    "# install the main library YFinance\n",
    "%pip install yfinance\n",
    "%pip install pandas-datareader"
   ]
  },
  {
   "cell_type": "code",
   "execution_count": 89,
   "id": "870f78fc",
   "metadata": {},
   "outputs": [],
   "source": [
    "# IMPORTS\n",
    "import numpy as np\n",
    "import pandas as pd\n",
    "\n",
    "#Fin Data Sources\n",
    "import yfinance as yf\n",
    "import pandas_datareader as pdr\n",
    "\n",
    "#Data viz\n",
    "import plotly.graph_objs as go\n",
    "import plotly.express as px\n",
    "\n",
    "import time\n",
    "from datetime import date"
   ]
  },
  {
   "cell_type": "markdown",
   "id": "11464276",
   "metadata": {},
   "source": [
    "# List of S&P 500 companies\n",
    "\n",
    "https://en.wikipedia.org/wiki/List_of_S%26P_500_companies"
   ]
  },
  {
   "cell_type": "code",
   "execution_count": null,
   "id": "3afcd8b4",
   "metadata": {},
   "outputs": [],
   "source": [
    "# Web Scraping for List of S&P 500 companies\n",
    "import requests\n",
    "from bs4 import BeautifulSoup\n",
    "\n",
    "\n",
    "url = \"https://en.wikipedia.org/wiki/List_of_S%26P_500_companies\"\n",
    "headers = {\n",
    "    \"User-Agent\": \"Mozilla/5.0 (Windows NT 10.0; Win64; x64) AppleWebKit/537.36 (KHTML, like Gecko) Chrome/58.0.3029.110 Safari/537.3\"\n",
    "}\n",
    "\n",
    "response = requests.get(url, headers=headers)"
   ]
  },
  {
   "cell_type": "code",
   "execution_count": null,
   "id": "421989b8",
   "metadata": {},
   "outputs": [
    {
     "name": "stdout",
     "output_type": "stream",
     "text": [
      "    Symbol             Security             GICS Sector  \\\n",
      "0      MMM                   3M             Industrials   \n",
      "1      AOS          A. O. Smith             Industrials   \n",
      "2      ABT  Abbott Laboratories             Health Care   \n",
      "3     ABBV               AbbVie             Health Care   \n",
      "4      ACN            Accenture  Information Technology   \n",
      "..     ...                  ...                     ...   \n",
      "498    XYL           Xylem Inc.             Industrials   \n",
      "499    YUM          Yum! Brands  Consumer Discretionary   \n",
      "500   ZBRA   Zebra Technologies  Information Technology   \n",
      "501    ZBH        Zimmer Biomet             Health Care   \n",
      "502    ZTS               Zoetis             Health Care   \n",
      "\n",
      "                                GICS Sub-Industry    Headquarters Location  \\\n",
      "0                        Industrial Conglomerates    Saint Paul, Minnesota   \n",
      "1                               Building Products     Milwaukee, Wisconsin   \n",
      "2                           Health Care Equipment  North Chicago, Illinois   \n",
      "3                                   Biotechnology  North Chicago, Illinois   \n",
      "4                  IT Consulting & Other Services          Dublin, Ireland   \n",
      "..                                            ...                      ...   \n",
      "498  Industrial Machinery & Supplies & Components   White Plains, New York   \n",
      "499                                   Restaurants     Louisville, Kentucky   \n",
      "500            Electronic Equipment & Instruments   Lincolnshire, Illinois   \n",
      "501                         Health Care Equipment          Warsaw, Indiana   \n",
      "502                               Pharmaceuticals   Parsippany, New Jersey   \n",
      "\n",
      "     Date added      CIK      Founded  \n",
      "0    1957-03-04    66740         1902  \n",
      "1    2017-07-26    91142         1916  \n",
      "2    1957-03-04     1800         1888  \n",
      "3    2012-12-31  1551152  2013 (1888)  \n",
      "4    2011-07-06  1467373         1989  \n",
      "..          ...      ...          ...  \n",
      "498  2011-11-01  1524472         2011  \n",
      "499  1997-10-06  1041061         1997  \n",
      "500  2019-12-23   877212         1969  \n",
      "501  2001-08-07  1136869         1927  \n",
      "502  2013-06-21  1555280         1952  \n",
      "\n",
      "[503 rows x 8 columns]\n"
     ]
    },
    {
     "name": "stderr",
     "output_type": "stream",
     "text": [
      "/var/folders/94/c9w07ypn0s31_b9lsdglwwnw0000gn/T/ipykernel_23122/641151213.py:9: FutureWarning: Passing literal html to 'read_html' is deprecated and will be removed in a future version. To read from a literal string, wrap it in a 'StringIO' object.\n",
      "  df = pd.read_html(str(table))[0]  # Assuming there's only one table, otherwise, loop through the list\n"
     ]
    }
   ],
   "source": [
    "# Check if the request was successful (status code 200)\n",
    "if response.status_code == 200:\n",
    "    soup = BeautifulSoup(response.content, \"html.parser\")\n",
    "    table_div = soup.find(\"div\", class_=\"mw-content-ltr\")\n",
    "\n",
    "    table = table_div.find(\"table\")\n",
    "\n",
    "    # Use pandas to read the table into a DataFrame\n",
    "    df = pd.read_html(str(table))[0]\n",
    "\n",
    "    # Display the DataFrame\n",
    "    print(df)\n",
    "else:\n",
    "    print(\"Failed to retrieve data from the webpage.\")"
   ]
  },
  {
   "cell_type": "code",
   "execution_count": null,
   "id": "49b71e70",
   "metadata": {},
   "outputs": [
    {
     "data": {
      "text/html": [
       "<div>\n",
       "<style scoped>\n",
       "    .dataframe tbody tr th:only-of-type {\n",
       "        vertical-align: middle;\n",
       "    }\n",
       "\n",
       "    .dataframe tbody tr th {\n",
       "        vertical-align: top;\n",
       "    }\n",
       "\n",
       "    .dataframe thead th {\n",
       "        text-align: right;\n",
       "    }\n",
       "</style>\n",
       "<table border=\"1\" class=\"dataframe\">\n",
       "  <thead>\n",
       "    <tr style=\"text-align: right;\">\n",
       "      <th></th>\n",
       "      <th>Symbol</th>\n",
       "      <th>Security</th>\n",
       "      <th>GICS Sector</th>\n",
       "      <th>GICS Sub-Industry</th>\n",
       "      <th>Headquarters Location</th>\n",
       "      <th>Date added</th>\n",
       "      <th>CIK</th>\n",
       "      <th>Founded</th>\n",
       "    </tr>\n",
       "  </thead>\n",
       "  <tbody>\n",
       "    <tr>\n",
       "      <th>0</th>\n",
       "      <td>MMM</td>\n",
       "      <td>3M</td>\n",
       "      <td>Industrials</td>\n",
       "      <td>Industrial Conglomerates</td>\n",
       "      <td>Saint Paul, Minnesota</td>\n",
       "      <td>1957-03-04</td>\n",
       "      <td>66740</td>\n",
       "      <td>1902</td>\n",
       "    </tr>\n",
       "    <tr>\n",
       "      <th>1</th>\n",
       "      <td>AOS</td>\n",
       "      <td>A. O. Smith</td>\n",
       "      <td>Industrials</td>\n",
       "      <td>Building Products</td>\n",
       "      <td>Milwaukee, Wisconsin</td>\n",
       "      <td>2017-07-26</td>\n",
       "      <td>91142</td>\n",
       "      <td>1916</td>\n",
       "    </tr>\n",
       "    <tr>\n",
       "      <th>2</th>\n",
       "      <td>ABT</td>\n",
       "      <td>Abbott Laboratories</td>\n",
       "      <td>Health Care</td>\n",
       "      <td>Health Care Equipment</td>\n",
       "      <td>North Chicago, Illinois</td>\n",
       "      <td>1957-03-04</td>\n",
       "      <td>1800</td>\n",
       "      <td>1888</td>\n",
       "    </tr>\n",
       "    <tr>\n",
       "      <th>3</th>\n",
       "      <td>ABBV</td>\n",
       "      <td>AbbVie</td>\n",
       "      <td>Health Care</td>\n",
       "      <td>Biotechnology</td>\n",
       "      <td>North Chicago, Illinois</td>\n",
       "      <td>2012-12-31</td>\n",
       "      <td>1551152</td>\n",
       "      <td>2013 (1888)</td>\n",
       "    </tr>\n",
       "    <tr>\n",
       "      <th>4</th>\n",
       "      <td>ACN</td>\n",
       "      <td>Accenture</td>\n",
       "      <td>Information Technology</td>\n",
       "      <td>IT Consulting &amp; Other Services</td>\n",
       "      <td>Dublin, Ireland</td>\n",
       "      <td>2011-07-06</td>\n",
       "      <td>1467373</td>\n",
       "      <td>1989</td>\n",
       "    </tr>\n",
       "    <tr>\n",
       "      <th>...</th>\n",
       "      <td>...</td>\n",
       "      <td>...</td>\n",
       "      <td>...</td>\n",
       "      <td>...</td>\n",
       "      <td>...</td>\n",
       "      <td>...</td>\n",
       "      <td>...</td>\n",
       "      <td>...</td>\n",
       "    </tr>\n",
       "    <tr>\n",
       "      <th>498</th>\n",
       "      <td>XYL</td>\n",
       "      <td>Xylem Inc.</td>\n",
       "      <td>Industrials</td>\n",
       "      <td>Industrial Machinery &amp; Supplies &amp; Components</td>\n",
       "      <td>White Plains, New York</td>\n",
       "      <td>2011-11-01</td>\n",
       "      <td>1524472</td>\n",
       "      <td>2011</td>\n",
       "    </tr>\n",
       "    <tr>\n",
       "      <th>499</th>\n",
       "      <td>YUM</td>\n",
       "      <td>Yum! Brands</td>\n",
       "      <td>Consumer Discretionary</td>\n",
       "      <td>Restaurants</td>\n",
       "      <td>Louisville, Kentucky</td>\n",
       "      <td>1997-10-06</td>\n",
       "      <td>1041061</td>\n",
       "      <td>1997</td>\n",
       "    </tr>\n",
       "    <tr>\n",
       "      <th>500</th>\n",
       "      <td>ZBRA</td>\n",
       "      <td>Zebra Technologies</td>\n",
       "      <td>Information Technology</td>\n",
       "      <td>Electronic Equipment &amp; Instruments</td>\n",
       "      <td>Lincolnshire, Illinois</td>\n",
       "      <td>2019-12-23</td>\n",
       "      <td>877212</td>\n",
       "      <td>1969</td>\n",
       "    </tr>\n",
       "    <tr>\n",
       "      <th>501</th>\n",
       "      <td>ZBH</td>\n",
       "      <td>Zimmer Biomet</td>\n",
       "      <td>Health Care</td>\n",
       "      <td>Health Care Equipment</td>\n",
       "      <td>Warsaw, Indiana</td>\n",
       "      <td>2001-08-07</td>\n",
       "      <td>1136869</td>\n",
       "      <td>1927</td>\n",
       "    </tr>\n",
       "    <tr>\n",
       "      <th>502</th>\n",
       "      <td>ZTS</td>\n",
       "      <td>Zoetis</td>\n",
       "      <td>Health Care</td>\n",
       "      <td>Pharmaceuticals</td>\n",
       "      <td>Parsippany, New Jersey</td>\n",
       "      <td>2013-06-21</td>\n",
       "      <td>1555280</td>\n",
       "      <td>1952</td>\n",
       "    </tr>\n",
       "  </tbody>\n",
       "</table>\n",
       "<p>503 rows × 8 columns</p>\n",
       "</div>"
      ],
      "text/plain": [
       "    Symbol             Security             GICS Sector  \\\n",
       "0      MMM                   3M             Industrials   \n",
       "1      AOS          A. O. Smith             Industrials   \n",
       "2      ABT  Abbott Laboratories             Health Care   \n",
       "3     ABBV               AbbVie             Health Care   \n",
       "4      ACN            Accenture  Information Technology   \n",
       "..     ...                  ...                     ...   \n",
       "498    XYL           Xylem Inc.             Industrials   \n",
       "499    YUM          Yum! Brands  Consumer Discretionary   \n",
       "500   ZBRA   Zebra Technologies  Information Technology   \n",
       "501    ZBH        Zimmer Biomet             Health Care   \n",
       "502    ZTS               Zoetis             Health Care   \n",
       "\n",
       "                                GICS Sub-Industry    Headquarters Location  \\\n",
       "0                        Industrial Conglomerates    Saint Paul, Minnesota   \n",
       "1                               Building Products     Milwaukee, Wisconsin   \n",
       "2                           Health Care Equipment  North Chicago, Illinois   \n",
       "3                                   Biotechnology  North Chicago, Illinois   \n",
       "4                  IT Consulting & Other Services          Dublin, Ireland   \n",
       "..                                            ...                      ...   \n",
       "498  Industrial Machinery & Supplies & Components   White Plains, New York   \n",
       "499                                   Restaurants     Louisville, Kentucky   \n",
       "500            Electronic Equipment & Instruments   Lincolnshire, Illinois   \n",
       "501                         Health Care Equipment          Warsaw, Indiana   \n",
       "502                               Pharmaceuticals   Parsippany, New Jersey   \n",
       "\n",
       "     Date added      CIK      Founded  \n",
       "0    1957-03-04    66740         1902  \n",
       "1    2017-07-26    91142         1916  \n",
       "2    1957-03-04     1800         1888  \n",
       "3    2012-12-31  1551152  2013 (1888)  \n",
       "4    2011-07-06  1467373         1989  \n",
       "..          ...      ...          ...  \n",
       "498  2011-11-01  1524472         2011  \n",
       "499  1997-10-06  1041061         1997  \n",
       "500  2019-12-23   877212         1969  \n",
       "501  2001-08-07  1136869         1927  \n",
       "502  2013-06-21  1555280         1952  \n",
       "\n",
       "[503 rows x 8 columns]"
      ]
     },
     "execution_count": 6,
     "metadata": {},
     "output_type": "execute_result"
    }
   ],
   "source": [
    "df"
   ]
  },
  {
   "cell_type": "code",
   "execution_count": null,
   "id": "4cf7ec2e",
   "metadata": {},
   "outputs": [
    {
     "data": {
      "text/plain": [
       "GICS Sector\n",
       "Industrials               78\n",
       "Financials                73\n",
       "Information Technology    69\n",
       "Health Care               60\n",
       "Consumer Discretionary    51\n",
       "Consumer Staples          38\n",
       "Utilities                 31\n",
       "Real Estate               31\n",
       "Materials                 26\n",
       "Communication Services    23\n",
       "Energy                    23\n",
       "Name: count, dtype: int64"
      ]
     },
     "execution_count": 7,
     "metadata": {},
     "output_type": "execute_result"
    }
   ],
   "source": [
    "# # of companies per GICS Sector\n",
    "df['GICS Sector'].value_counts()"
   ]
  },
  {
   "cell_type": "code",
   "execution_count": null,
   "id": "c3b84a2c",
   "metadata": {},
   "outputs": [
    {
     "data": {
      "text/html": [
       "<div>\n",
       "<style scoped>\n",
       "    .dataframe tbody tr th:only-of-type {\n",
       "        vertical-align: middle;\n",
       "    }\n",
       "\n",
       "    .dataframe tbody tr th {\n",
       "        vertical-align: top;\n",
       "    }\n",
       "\n",
       "    .dataframe thead th {\n",
       "        text-align: right;\n",
       "    }\n",
       "</style>\n",
       "<table border=\"1\" class=\"dataframe\">\n",
       "  <thead>\n",
       "    <tr style=\"text-align: right;\">\n",
       "      <th></th>\n",
       "      <th>Symbol</th>\n",
       "      <th>Security</th>\n",
       "      <th>GICS Sector</th>\n",
       "      <th>GICS Sub-Industry</th>\n",
       "      <th>Headquarters Location</th>\n",
       "      <th>Date added</th>\n",
       "      <th>CIK</th>\n",
       "      <th>Founded</th>\n",
       "    </tr>\n",
       "  </thead>\n",
       "  <tbody>\n",
       "    <tr>\n",
       "      <th>114</th>\n",
       "      <td>COIN</td>\n",
       "      <td>Coinbase</td>\n",
       "      <td>Financials</td>\n",
       "      <td>Financial Exchanges &amp; Data</td>\n",
       "      <td>New York City, New York</td>\n",
       "      <td>2025-05-19</td>\n",
       "      <td>1679788</td>\n",
       "      <td>2012</td>\n",
       "    </tr>\n",
       "    <tr>\n",
       "      <th>151</th>\n",
       "      <td>DASH</td>\n",
       "      <td>DoorDash</td>\n",
       "      <td>Consumer Discretionary</td>\n",
       "      <td>Specialized Consumer Services</td>\n",
       "      <td>San Francisco, California</td>\n",
       "      <td>2025-03-24</td>\n",
       "      <td>1792789</td>\n",
       "      <td>2012</td>\n",
       "    </tr>\n",
       "    <tr>\n",
       "      <th>182</th>\n",
       "      <td>EXE</td>\n",
       "      <td>Expand Energy</td>\n",
       "      <td>Energy</td>\n",
       "      <td>Oil &amp; Gas Exploration &amp; Production</td>\n",
       "      <td>Oklahoma City, Oklahoma</td>\n",
       "      <td>2025-03-24</td>\n",
       "      <td>895126</td>\n",
       "      <td>1989</td>\n",
       "    </tr>\n",
       "    <tr>\n",
       "      <th>446</th>\n",
       "      <td>TKO</td>\n",
       "      <td>TKO Group Holdings</td>\n",
       "      <td>Communication Services</td>\n",
       "      <td>Movies &amp; Entertainment</td>\n",
       "      <td>New York City, New York</td>\n",
       "      <td>2025-03-24</td>\n",
       "      <td>1973266</td>\n",
       "      <td>2023</td>\n",
       "    </tr>\n",
       "    <tr>\n",
       "      <th>492</th>\n",
       "      <td>WSM</td>\n",
       "      <td>Williams-Sonoma, Inc.</td>\n",
       "      <td>Consumer Discretionary</td>\n",
       "      <td>Homefurnishing Retail</td>\n",
       "      <td>San Francisco, California</td>\n",
       "      <td>2025-03-24</td>\n",
       "      <td>719955</td>\n",
       "      <td>1956</td>\n",
       "    </tr>\n",
       "    <tr>\n",
       "      <th>38</th>\n",
       "      <td>APO</td>\n",
       "      <td>Apollo Global Management</td>\n",
       "      <td>Financials</td>\n",
       "      <td>Asset Management &amp; Custody Banks</td>\n",
       "      <td>New York City, New York</td>\n",
       "      <td>2024-12-23</td>\n",
       "      <td>1858681</td>\n",
       "      <td>1990</td>\n",
       "    </tr>\n",
       "    <tr>\n",
       "      <th>287</th>\n",
       "      <td>LII</td>\n",
       "      <td>Lennox International</td>\n",
       "      <td>Industrials</td>\n",
       "      <td>Building Products</td>\n",
       "      <td>Richardson, Texas</td>\n",
       "      <td>2024-12-23</td>\n",
       "      <td>1069202</td>\n",
       "      <td>1895</td>\n",
       "    </tr>\n",
       "    <tr>\n",
       "      <th>495</th>\n",
       "      <td>WDAY</td>\n",
       "      <td>Workday, Inc.</td>\n",
       "      <td>Information Technology</td>\n",
       "      <td>Application Software</td>\n",
       "      <td>Pleasanton, California</td>\n",
       "      <td>2024-12-23</td>\n",
       "      <td>1327811</td>\n",
       "      <td>2005</td>\n",
       "    </tr>\n",
       "    <tr>\n",
       "      <th>442</th>\n",
       "      <td>TPL</td>\n",
       "      <td>Texas Pacific Land Corporation</td>\n",
       "      <td>Energy</td>\n",
       "      <td>Oil &amp; Gas Exploration &amp; Production</td>\n",
       "      <td>Dallas, Texas</td>\n",
       "      <td>2024-11-26</td>\n",
       "      <td>1811074</td>\n",
       "      <td>1888</td>\n",
       "    </tr>\n",
       "    <tr>\n",
       "      <th>175</th>\n",
       "      <td>ERIE</td>\n",
       "      <td>Erie Indemnity</td>\n",
       "      <td>Financials</td>\n",
       "      <td>Insurance Brokers</td>\n",
       "      <td>Erie, Pennsylvania</td>\n",
       "      <td>2024-09-23</td>\n",
       "      <td>922621</td>\n",
       "      <td>1925</td>\n",
       "    </tr>\n",
       "  </tbody>\n",
       "</table>\n",
       "</div>"
      ],
      "text/plain": [
       "    Symbol                        Security             GICS Sector  \\\n",
       "114   COIN                        Coinbase              Financials   \n",
       "151   DASH                        DoorDash  Consumer Discretionary   \n",
       "182    EXE                   Expand Energy                  Energy   \n",
       "446    TKO              TKO Group Holdings  Communication Services   \n",
       "492    WSM           Williams-Sonoma, Inc.  Consumer Discretionary   \n",
       "38     APO        Apollo Global Management              Financials   \n",
       "287    LII            Lennox International             Industrials   \n",
       "495   WDAY                   Workday, Inc.  Information Technology   \n",
       "442    TPL  Texas Pacific Land Corporation                  Energy   \n",
       "175   ERIE                  Erie Indemnity              Financials   \n",
       "\n",
       "                      GICS Sub-Industry      Headquarters Location  \\\n",
       "114          Financial Exchanges & Data    New York City, New York   \n",
       "151       Specialized Consumer Services  San Francisco, California   \n",
       "182  Oil & Gas Exploration & Production    Oklahoma City, Oklahoma   \n",
       "446              Movies & Entertainment    New York City, New York   \n",
       "492               Homefurnishing Retail  San Francisco, California   \n",
       "38     Asset Management & Custody Banks    New York City, New York   \n",
       "287                   Building Products          Richardson, Texas   \n",
       "495                Application Software     Pleasanton, California   \n",
       "442  Oil & Gas Exploration & Production              Dallas, Texas   \n",
       "175                   Insurance Brokers         Erie, Pennsylvania   \n",
       "\n",
       "     Date added      CIK Founded  \n",
       "114  2025-05-19  1679788    2012  \n",
       "151  2025-03-24  1792789    2012  \n",
       "182  2025-03-24   895126    1989  \n",
       "446  2025-03-24  1973266    2023  \n",
       "492  2025-03-24   719955    1956  \n",
       "38   2024-12-23  1858681    1990  \n",
       "287  2024-12-23  1069202    1895  \n",
       "495  2024-12-23  1327811    2005  \n",
       "442  2024-11-26  1811074    1888  \n",
       "175  2024-09-23   922621    1925  "
      ]
     },
     "execution_count": 8,
     "metadata": {},
     "output_type": "execute_result"
    }
   ],
   "source": [
    "# top 10 companies by date added\n",
    "df.sort_values('Date added', ascending=False).head(10)"
   ]
  },
  {
   "cell_type": "code",
   "execution_count": null,
   "id": "3cb0b4f4",
   "metadata": {},
   "outputs": [],
   "source": [
    "# top 10 states by # of companies\n",
    "df['State'] = df['Headquarters Location'].str.extract(r',\\s*([A-Z]{2})$')\n",
    "df['State'].value_counts().head(10)"
   ]
  },
  {
   "cell_type": "code",
   "execution_count": null,
   "id": "945a3c6a",
   "metadata": {},
   "outputs": [
    {
     "data": {
      "text/html": [
       "<div>\n",
       "<style scoped>\n",
       "    .dataframe tbody tr th:only-of-type {\n",
       "        vertical-align: middle;\n",
       "    }\n",
       "\n",
       "    .dataframe tbody tr th {\n",
       "        vertical-align: top;\n",
       "    }\n",
       "\n",
       "    .dataframe thead th {\n",
       "        text-align: right;\n",
       "    }\n",
       "</style>\n",
       "<table border=\"1\" class=\"dataframe\">\n",
       "  <thead>\n",
       "    <tr style=\"text-align: right;\">\n",
       "      <th></th>\n",
       "      <th>Symbol</th>\n",
       "      <th>Security</th>\n",
       "      <th>GICS Sector</th>\n",
       "      <th>GICS Sub-Industry</th>\n",
       "      <th>Headquarters Location</th>\n",
       "      <th>Date added</th>\n",
       "      <th>CIK</th>\n",
       "      <th>Founded</th>\n",
       "      <th>State</th>\n",
       "    </tr>\n",
       "  </thead>\n",
       "  <tbody>\n",
       "    <tr>\n",
       "      <th>2</th>\n",
       "      <td>ABT</td>\n",
       "      <td>Abbott Laboratories</td>\n",
       "      <td>Health Care</td>\n",
       "      <td>Health Care Equipment</td>\n",
       "      <td>North Chicago, Illinois</td>\n",
       "      <td>1957-03-04</td>\n",
       "      <td>1800</td>\n",
       "      <td>1888</td>\n",
       "      <td>NaN</td>\n",
       "    </tr>\n",
       "    <tr>\n",
       "      <th>26</th>\n",
       "      <td>AXP</td>\n",
       "      <td>American Express</td>\n",
       "      <td>Financials</td>\n",
       "      <td>Consumer Finance</td>\n",
       "      <td>New York City, New York</td>\n",
       "      <td>1976-06-30</td>\n",
       "      <td>4962</td>\n",
       "      <td>1850</td>\n",
       "      <td>NaN</td>\n",
       "    </tr>\n",
       "    <tr>\n",
       "      <th>29</th>\n",
       "      <td>AWK</td>\n",
       "      <td>American Water Works</td>\n",
       "      <td>Utilities</td>\n",
       "      <td>Water Utilities</td>\n",
       "      <td>Camden, New Jersey</td>\n",
       "      <td>2016-03-04</td>\n",
       "      <td>1410636</td>\n",
       "      <td>1886</td>\n",
       "      <td>NaN</td>\n",
       "    </tr>\n",
       "    <tr>\n",
       "      <th>30</th>\n",
       "      <td>AMP</td>\n",
       "      <td>Ameriprise Financial</td>\n",
       "      <td>Financials</td>\n",
       "      <td>Asset Management &amp; Custody Banks</td>\n",
       "      <td>Minneapolis, Minnesota</td>\n",
       "      <td>2005-10-03</td>\n",
       "      <td>820027</td>\n",
       "      <td>1894</td>\n",
       "      <td>NaN</td>\n",
       "    </tr>\n",
       "    <tr>\n",
       "      <th>46</th>\n",
       "      <td>AIZ</td>\n",
       "      <td>Assurant</td>\n",
       "      <td>Financials</td>\n",
       "      <td>Multi-line Insurance</td>\n",
       "      <td>Atlanta, Georgia</td>\n",
       "      <td>2007-04-10</td>\n",
       "      <td>1267238</td>\n",
       "      <td>1892</td>\n",
       "      <td>NaN</td>\n",
       "    </tr>\n",
       "    <tr>\n",
       "      <th>...</th>\n",
       "      <td>...</td>\n",
       "      <td>...</td>\n",
       "      <td>...</td>\n",
       "      <td>...</td>\n",
       "      <td>...</td>\n",
       "      <td>...</td>\n",
       "      <td>...</td>\n",
       "      <td>...</td>\n",
       "      <td>...</td>\n",
       "    </tr>\n",
       "    <tr>\n",
       "      <th>450</th>\n",
       "      <td>TRV</td>\n",
       "      <td>Travelers Companies (The)</td>\n",
       "      <td>Financials</td>\n",
       "      <td>Property &amp; Casualty Insurance</td>\n",
       "      <td>New York City, New York</td>\n",
       "      <td>2002-08-21</td>\n",
       "      <td>86312</td>\n",
       "      <td>1853</td>\n",
       "      <td>NaN</td>\n",
       "    </tr>\n",
       "    <tr>\n",
       "      <th>452</th>\n",
       "      <td>TFC</td>\n",
       "      <td>Truist Financial</td>\n",
       "      <td>Financials</td>\n",
       "      <td>Diversified Banks</td>\n",
       "      <td>Charlotte, North Carolina</td>\n",
       "      <td>1997-12-04</td>\n",
       "      <td>92230</td>\n",
       "      <td>1872</td>\n",
       "      <td>NaN</td>\n",
       "    </tr>\n",
       "    <tr>\n",
       "      <th>459</th>\n",
       "      <td>UNP</td>\n",
       "      <td>Union Pacific Corporation</td>\n",
       "      <td>Industrials</td>\n",
       "      <td>Rail Transportation</td>\n",
       "      <td>Omaha, Nebraska</td>\n",
       "      <td>1957-03-04</td>\n",
       "      <td>100885</td>\n",
       "      <td>1862</td>\n",
       "      <td>NaN</td>\n",
       "    </tr>\n",
       "    <tr>\n",
       "      <th>486</th>\n",
       "      <td>WEC</td>\n",
       "      <td>WEC Energy Group</td>\n",
       "      <td>Utilities</td>\n",
       "      <td>Electric Utilities</td>\n",
       "      <td>Milwaukee, Wisconsin</td>\n",
       "      <td>2008-10-31</td>\n",
       "      <td>783325</td>\n",
       "      <td>1896</td>\n",
       "      <td>NaN</td>\n",
       "    </tr>\n",
       "    <tr>\n",
       "      <th>487</th>\n",
       "      <td>WFC</td>\n",
       "      <td>Wells Fargo</td>\n",
       "      <td>Financials</td>\n",
       "      <td>Diversified Banks</td>\n",
       "      <td>San Francisco, California</td>\n",
       "      <td>1976-06-30</td>\n",
       "      <td>72971</td>\n",
       "      <td>1852</td>\n",
       "      <td>NaN</td>\n",
       "    </tr>\n",
       "  </tbody>\n",
       "</table>\n",
       "<p>74 rows × 9 columns</p>\n",
       "</div>"
      ],
      "text/plain": [
       "    Symbol                   Security  GICS Sector  \\\n",
       "2      ABT        Abbott Laboratories  Health Care   \n",
       "26     AXP           American Express   Financials   \n",
       "29     AWK       American Water Works    Utilities   \n",
       "30     AMP       Ameriprise Financial   Financials   \n",
       "46     AIZ                   Assurant   Financials   \n",
       "..     ...                        ...          ...   \n",
       "450    TRV  Travelers Companies (The)   Financials   \n",
       "452    TFC           Truist Financial   Financials   \n",
       "459    UNP  Union Pacific Corporation  Industrials   \n",
       "486    WEC           WEC Energy Group    Utilities   \n",
       "487    WFC                Wells Fargo   Financials   \n",
       "\n",
       "                    GICS Sub-Industry      Headquarters Location  Date added  \\\n",
       "2               Health Care Equipment    North Chicago, Illinois  1957-03-04   \n",
       "26                   Consumer Finance    New York City, New York  1976-06-30   \n",
       "29                    Water Utilities         Camden, New Jersey  2016-03-04   \n",
       "30   Asset Management & Custody Banks     Minneapolis, Minnesota  2005-10-03   \n",
       "46               Multi-line Insurance           Atlanta, Georgia  2007-04-10   \n",
       "..                                ...                        ...         ...   \n",
       "450     Property & Casualty Insurance    New York City, New York  2002-08-21   \n",
       "452                 Diversified Banks  Charlotte, North Carolina  1997-12-04   \n",
       "459               Rail Transportation            Omaha, Nebraska  1957-03-04   \n",
       "486                Electric Utilities       Milwaukee, Wisconsin  2008-10-31   \n",
       "487                 Diversified Banks  San Francisco, California  1976-06-30   \n",
       "\n",
       "         CIK Founded State  \n",
       "2       1800    1888   NaN  \n",
       "26      4962    1850   NaN  \n",
       "29   1410636    1886   NaN  \n",
       "30    820027    1894   NaN  \n",
       "46   1267238    1892   NaN  \n",
       "..       ...     ...   ...  \n",
       "450    86312    1853   NaN  \n",
       "452    92230    1872   NaN  \n",
       "459   100885    1862   NaN  \n",
       "486   783325    1896   NaN  \n",
       "487    72971    1852   NaN  \n",
       "\n",
       "[74 rows x 9 columns]"
      ]
     },
     "execution_count": 16,
     "metadata": {},
     "output_type": "execute_result"
    }
   ],
   "source": [
    "# companies founded before 1900\n",
    "df[df['Founded'].astype(str).str.extract(r'(\\d{4})').astype(float)[0] < 1900]\n",
    "\n"
   ]
  },
  {
   "cell_type": "code",
   "execution_count": 28,
   "id": "11111d45",
   "metadata": {},
   "outputs": [
    {
     "data": {
      "application/vnd.plotly.v1+json": {
       "config": {
        "plotlyServerURL": "https://plot.ly"
       },
       "data": [
        {
         "alignmentgroup": "True",
         "hovertemplate": "variable=count<br>GICS Sub-Industry=%{x}<br>value=%{y}<extra></extra>",
         "legendgroup": "count",
         "marker": {
          "color": "#636efa",
          "pattern": {
           "shape": ""
          }
         },
         "name": "count",
         "offsetgroup": "count",
         "orientation": "v",
         "showlegend": true,
         "textposition": "auto",
         "type": "bar",
         "x": [
          "Health Care Equipment",
          "Electric Utilities",
          "Industrial Machinery & Supplies & Components",
          "Semiconductors",
          "Application Software",
          "Multi-Utilities",
          "Packaged Foods & Meats",
          "Aerospace & Defense",
          "Asset Management & Custody Banks",
          "Financial Exchanges & Data"
         ],
         "xaxis": "x",
         "y": [
          17,
          15,
          14,
          14,
          13,
          12,
          12,
          12,
          11,
          10
         ],
         "yaxis": "y"
        }
       ],
       "layout": {
        "barmode": "relative",
        "legend": {
         "title": {
          "text": "variable"
         },
         "tracegroupgap": 0
        },
        "margin": {
         "t": 60
        },
        "template": {
         "data": {
          "bar": [
           {
            "error_x": {
             "color": "#2a3f5f"
            },
            "error_y": {
             "color": "#2a3f5f"
            },
            "marker": {
             "line": {
              "color": "#E5ECF6",
              "width": 0.5
             },
             "pattern": {
              "fillmode": "overlay",
              "size": 10,
              "solidity": 0.2
             }
            },
            "type": "bar"
           }
          ],
          "barpolar": [
           {
            "marker": {
             "line": {
              "color": "#E5ECF6",
              "width": 0.5
             },
             "pattern": {
              "fillmode": "overlay",
              "size": 10,
              "solidity": 0.2
             }
            },
            "type": "barpolar"
           }
          ],
          "carpet": [
           {
            "aaxis": {
             "endlinecolor": "#2a3f5f",
             "gridcolor": "white",
             "linecolor": "white",
             "minorgridcolor": "white",
             "startlinecolor": "#2a3f5f"
            },
            "baxis": {
             "endlinecolor": "#2a3f5f",
             "gridcolor": "white",
             "linecolor": "white",
             "minorgridcolor": "white",
             "startlinecolor": "#2a3f5f"
            },
            "type": "carpet"
           }
          ],
          "choropleth": [
           {
            "colorbar": {
             "outlinewidth": 0,
             "ticks": ""
            },
            "type": "choropleth"
           }
          ],
          "contour": [
           {
            "colorbar": {
             "outlinewidth": 0,
             "ticks": ""
            },
            "colorscale": [
             [
              0,
              "#0d0887"
             ],
             [
              0.1111111111111111,
              "#46039f"
             ],
             [
              0.2222222222222222,
              "#7201a8"
             ],
             [
              0.3333333333333333,
              "#9c179e"
             ],
             [
              0.4444444444444444,
              "#bd3786"
             ],
             [
              0.5555555555555556,
              "#d8576b"
             ],
             [
              0.6666666666666666,
              "#ed7953"
             ],
             [
              0.7777777777777778,
              "#fb9f3a"
             ],
             [
              0.8888888888888888,
              "#fdca26"
             ],
             [
              1,
              "#f0f921"
             ]
            ],
            "type": "contour"
           }
          ],
          "contourcarpet": [
           {
            "colorbar": {
             "outlinewidth": 0,
             "ticks": ""
            },
            "type": "contourcarpet"
           }
          ],
          "heatmap": [
           {
            "colorbar": {
             "outlinewidth": 0,
             "ticks": ""
            },
            "colorscale": [
             [
              0,
              "#0d0887"
             ],
             [
              0.1111111111111111,
              "#46039f"
             ],
             [
              0.2222222222222222,
              "#7201a8"
             ],
             [
              0.3333333333333333,
              "#9c179e"
             ],
             [
              0.4444444444444444,
              "#bd3786"
             ],
             [
              0.5555555555555556,
              "#d8576b"
             ],
             [
              0.6666666666666666,
              "#ed7953"
             ],
             [
              0.7777777777777778,
              "#fb9f3a"
             ],
             [
              0.8888888888888888,
              "#fdca26"
             ],
             [
              1,
              "#f0f921"
             ]
            ],
            "type": "heatmap"
           }
          ],
          "heatmapgl": [
           {
            "colorbar": {
             "outlinewidth": 0,
             "ticks": ""
            },
            "colorscale": [
             [
              0,
              "#0d0887"
             ],
             [
              0.1111111111111111,
              "#46039f"
             ],
             [
              0.2222222222222222,
              "#7201a8"
             ],
             [
              0.3333333333333333,
              "#9c179e"
             ],
             [
              0.4444444444444444,
              "#bd3786"
             ],
             [
              0.5555555555555556,
              "#d8576b"
             ],
             [
              0.6666666666666666,
              "#ed7953"
             ],
             [
              0.7777777777777778,
              "#fb9f3a"
             ],
             [
              0.8888888888888888,
              "#fdca26"
             ],
             [
              1,
              "#f0f921"
             ]
            ],
            "type": "heatmapgl"
           }
          ],
          "histogram": [
           {
            "marker": {
             "pattern": {
              "fillmode": "overlay",
              "size": 10,
              "solidity": 0.2
             }
            },
            "type": "histogram"
           }
          ],
          "histogram2d": [
           {
            "colorbar": {
             "outlinewidth": 0,
             "ticks": ""
            },
            "colorscale": [
             [
              0,
              "#0d0887"
             ],
             [
              0.1111111111111111,
              "#46039f"
             ],
             [
              0.2222222222222222,
              "#7201a8"
             ],
             [
              0.3333333333333333,
              "#9c179e"
             ],
             [
              0.4444444444444444,
              "#bd3786"
             ],
             [
              0.5555555555555556,
              "#d8576b"
             ],
             [
              0.6666666666666666,
              "#ed7953"
             ],
             [
              0.7777777777777778,
              "#fb9f3a"
             ],
             [
              0.8888888888888888,
              "#fdca26"
             ],
             [
              1,
              "#f0f921"
             ]
            ],
            "type": "histogram2d"
           }
          ],
          "histogram2dcontour": [
           {
            "colorbar": {
             "outlinewidth": 0,
             "ticks": ""
            },
            "colorscale": [
             [
              0,
              "#0d0887"
             ],
             [
              0.1111111111111111,
              "#46039f"
             ],
             [
              0.2222222222222222,
              "#7201a8"
             ],
             [
              0.3333333333333333,
              "#9c179e"
             ],
             [
              0.4444444444444444,
              "#bd3786"
             ],
             [
              0.5555555555555556,
              "#d8576b"
             ],
             [
              0.6666666666666666,
              "#ed7953"
             ],
             [
              0.7777777777777778,
              "#fb9f3a"
             ],
             [
              0.8888888888888888,
              "#fdca26"
             ],
             [
              1,
              "#f0f921"
             ]
            ],
            "type": "histogram2dcontour"
           }
          ],
          "mesh3d": [
           {
            "colorbar": {
             "outlinewidth": 0,
             "ticks": ""
            },
            "type": "mesh3d"
           }
          ],
          "parcoords": [
           {
            "line": {
             "colorbar": {
              "outlinewidth": 0,
              "ticks": ""
             }
            },
            "type": "parcoords"
           }
          ],
          "pie": [
           {
            "automargin": true,
            "type": "pie"
           }
          ],
          "scatter": [
           {
            "fillpattern": {
             "fillmode": "overlay",
             "size": 10,
             "solidity": 0.2
            },
            "type": "scatter"
           }
          ],
          "scatter3d": [
           {
            "line": {
             "colorbar": {
              "outlinewidth": 0,
              "ticks": ""
             }
            },
            "marker": {
             "colorbar": {
              "outlinewidth": 0,
              "ticks": ""
             }
            },
            "type": "scatter3d"
           }
          ],
          "scattercarpet": [
           {
            "marker": {
             "colorbar": {
              "outlinewidth": 0,
              "ticks": ""
             }
            },
            "type": "scattercarpet"
           }
          ],
          "scattergeo": [
           {
            "marker": {
             "colorbar": {
              "outlinewidth": 0,
              "ticks": ""
             }
            },
            "type": "scattergeo"
           }
          ],
          "scattergl": [
           {
            "marker": {
             "colorbar": {
              "outlinewidth": 0,
              "ticks": ""
             }
            },
            "type": "scattergl"
           }
          ],
          "scattermapbox": [
           {
            "marker": {
             "colorbar": {
              "outlinewidth": 0,
              "ticks": ""
             }
            },
            "type": "scattermapbox"
           }
          ],
          "scatterpolar": [
           {
            "marker": {
             "colorbar": {
              "outlinewidth": 0,
              "ticks": ""
             }
            },
            "type": "scatterpolar"
           }
          ],
          "scatterpolargl": [
           {
            "marker": {
             "colorbar": {
              "outlinewidth": 0,
              "ticks": ""
             }
            },
            "type": "scatterpolargl"
           }
          ],
          "scatterternary": [
           {
            "marker": {
             "colorbar": {
              "outlinewidth": 0,
              "ticks": ""
             }
            },
            "type": "scatterternary"
           }
          ],
          "surface": [
           {
            "colorbar": {
             "outlinewidth": 0,
             "ticks": ""
            },
            "colorscale": [
             [
              0,
              "#0d0887"
             ],
             [
              0.1111111111111111,
              "#46039f"
             ],
             [
              0.2222222222222222,
              "#7201a8"
             ],
             [
              0.3333333333333333,
              "#9c179e"
             ],
             [
              0.4444444444444444,
              "#bd3786"
             ],
             [
              0.5555555555555556,
              "#d8576b"
             ],
             [
              0.6666666666666666,
              "#ed7953"
             ],
             [
              0.7777777777777778,
              "#fb9f3a"
             ],
             [
              0.8888888888888888,
              "#fdca26"
             ],
             [
              1,
              "#f0f921"
             ]
            ],
            "type": "surface"
           }
          ],
          "table": [
           {
            "cells": {
             "fill": {
              "color": "#EBF0F8"
             },
             "line": {
              "color": "white"
             }
            },
            "header": {
             "fill": {
              "color": "#C8D4E3"
             },
             "line": {
              "color": "white"
             }
            },
            "type": "table"
           }
          ]
         },
         "layout": {
          "annotationdefaults": {
           "arrowcolor": "#2a3f5f",
           "arrowhead": 0,
           "arrowwidth": 1
          },
          "autotypenumbers": "strict",
          "coloraxis": {
           "colorbar": {
            "outlinewidth": 0,
            "ticks": ""
           }
          },
          "colorscale": {
           "diverging": [
            [
             0,
             "#8e0152"
            ],
            [
             0.1,
             "#c51b7d"
            ],
            [
             0.2,
             "#de77ae"
            ],
            [
             0.3,
             "#f1b6da"
            ],
            [
             0.4,
             "#fde0ef"
            ],
            [
             0.5,
             "#f7f7f7"
            ],
            [
             0.6,
             "#e6f5d0"
            ],
            [
             0.7,
             "#b8e186"
            ],
            [
             0.8,
             "#7fbc41"
            ],
            [
             0.9,
             "#4d9221"
            ],
            [
             1,
             "#276419"
            ]
           ],
           "sequential": [
            [
             0,
             "#0d0887"
            ],
            [
             0.1111111111111111,
             "#46039f"
            ],
            [
             0.2222222222222222,
             "#7201a8"
            ],
            [
             0.3333333333333333,
             "#9c179e"
            ],
            [
             0.4444444444444444,
             "#bd3786"
            ],
            [
             0.5555555555555556,
             "#d8576b"
            ],
            [
             0.6666666666666666,
             "#ed7953"
            ],
            [
             0.7777777777777778,
             "#fb9f3a"
            ],
            [
             0.8888888888888888,
             "#fdca26"
            ],
            [
             1,
             "#f0f921"
            ]
           ],
           "sequentialminus": [
            [
             0,
             "#0d0887"
            ],
            [
             0.1111111111111111,
             "#46039f"
            ],
            [
             0.2222222222222222,
             "#7201a8"
            ],
            [
             0.3333333333333333,
             "#9c179e"
            ],
            [
             0.4444444444444444,
             "#bd3786"
            ],
            [
             0.5555555555555556,
             "#d8576b"
            ],
            [
             0.6666666666666666,
             "#ed7953"
            ],
            [
             0.7777777777777778,
             "#fb9f3a"
            ],
            [
             0.8888888888888888,
             "#fdca26"
            ],
            [
             1,
             "#f0f921"
            ]
           ]
          },
          "colorway": [
           "#636efa",
           "#EF553B",
           "#00cc96",
           "#ab63fa",
           "#FFA15A",
           "#19d3f3",
           "#FF6692",
           "#B6E880",
           "#FF97FF",
           "#FECB52"
          ],
          "font": {
           "color": "#2a3f5f"
          },
          "geo": {
           "bgcolor": "white",
           "lakecolor": "white",
           "landcolor": "#E5ECF6",
           "showlakes": true,
           "showland": true,
           "subunitcolor": "white"
          },
          "hoverlabel": {
           "align": "left"
          },
          "hovermode": "closest",
          "mapbox": {
           "style": "light"
          },
          "paper_bgcolor": "white",
          "plot_bgcolor": "#E5ECF6",
          "polar": {
           "angularaxis": {
            "gridcolor": "white",
            "linecolor": "white",
            "ticks": ""
           },
           "bgcolor": "#E5ECF6",
           "radialaxis": {
            "gridcolor": "white",
            "linecolor": "white",
            "ticks": ""
           }
          },
          "scene": {
           "xaxis": {
            "backgroundcolor": "#E5ECF6",
            "gridcolor": "white",
            "gridwidth": 2,
            "linecolor": "white",
            "showbackground": true,
            "ticks": "",
            "zerolinecolor": "white"
           },
           "yaxis": {
            "backgroundcolor": "#E5ECF6",
            "gridcolor": "white",
            "gridwidth": 2,
            "linecolor": "white",
            "showbackground": true,
            "ticks": "",
            "zerolinecolor": "white"
           },
           "zaxis": {
            "backgroundcolor": "#E5ECF6",
            "gridcolor": "white",
            "gridwidth": 2,
            "linecolor": "white",
            "showbackground": true,
            "ticks": "",
            "zerolinecolor": "white"
           }
          },
          "shapedefaults": {
           "line": {
            "color": "#2a3f5f"
           }
          },
          "ternary": {
           "aaxis": {
            "gridcolor": "white",
            "linecolor": "white",
            "ticks": ""
           },
           "baxis": {
            "gridcolor": "white",
            "linecolor": "white",
            "ticks": ""
           },
           "bgcolor": "#E5ECF6",
           "caxis": {
            "gridcolor": "white",
            "linecolor": "white",
            "ticks": ""
           }
          },
          "title": {
           "x": 0.05
          },
          "xaxis": {
           "automargin": true,
           "gridcolor": "white",
           "linecolor": "white",
           "ticks": "",
           "title": {
            "standoff": 15
           },
           "zerolinecolor": "white",
           "zerolinewidth": 2
          },
          "yaxis": {
           "automargin": true,
           "gridcolor": "white",
           "linecolor": "white",
           "ticks": "",
           "title": {
            "standoff": 15
           },
           "zerolinecolor": "white",
           "zerolinewidth": 2
          }
         }
        },
        "xaxis": {
         "anchor": "y",
         "domain": [
          0,
          1
         ],
         "title": {
          "text": "GICS Sub-Industry"
         }
        },
        "yaxis": {
         "anchor": "x",
         "domain": [
          0,
          1
         ],
         "title": {
          "text": "value"
         }
        }
       }
      }
     },
     "metadata": {},
     "output_type": "display_data"
    }
   ],
   "source": [
    "fig = px.bar(df['GICS Sub-Industry'].value_counts().head(10))\n",
    "fig.show()"
   ]
  },
  {
   "cell_type": "code",
   "execution_count": 36,
   "id": "6ca46296",
   "metadata": {},
   "outputs": [],
   "source": [
    "df_additions = df[['Symbol', 'Security', 'Date added']].copy()"
   ]
  },
  {
   "cell_type": "code",
   "execution_count": 38,
   "id": "d5686000",
   "metadata": {},
   "outputs": [],
   "source": [
    "df_additions['Year added'] = pd.to_datetime(df_additions['Date added']).dt.year"
   ]
  },
  {
   "cell_type": "code",
   "execution_count": 40,
   "id": "ee82596f",
   "metadata": {},
   "outputs": [
    {
     "data": {
      "text/plain": [
       "Year added\n",
       "1957    53\n",
       "2017    23\n",
       "2016    23\n",
       "2019    22\n",
       "2008    17\n",
       "2022    16\n",
       "2024    16\n",
       "2023    15\n",
       "2021    15\n",
       "2012    14\n",
       "1997    14\n",
       "2015    14\n",
       "2018    14\n",
       "2002    13\n",
       "2009    12\n",
       "2020    12\n",
       "2007    12\n",
       "1998    11\n",
       "1976    11\n",
       "2013    10\n",
       "2006    10\n",
       "2011    10\n",
       "2000     9\n",
       "1999     9\n",
       "2010     9\n",
       "2001     8\n",
       "2014     8\n",
       "1995     7\n",
       "1985     7\n",
       "2005     7\n",
       "1994     7\n",
       "2004     6\n",
       "1982     5\n",
       "1989     5\n",
       "2025     5\n",
       "1984     5\n",
       "2003     5\n",
       "1988     4\n",
       "1981     3\n",
       "1992     3\n",
       "1980     3\n",
       "1983     3\n",
       "1993     3\n",
       "1986     3\n",
       "1972     2\n",
       "1987     2\n",
       "1969     2\n",
       "1996     2\n",
       "1965     2\n",
       "1973     2\n",
       "1975     2\n",
       "1970     2\n",
       "1979     2\n",
       "1974     1\n",
       "1991     1\n",
       "1964     1\n",
       "1978     1\n",
       "Name: count, dtype: int64"
      ]
     },
     "execution_count": 40,
     "metadata": {},
     "output_type": "execute_result"
    }
   ],
   "source": [
    "df_additions['Year added'].value_counts().sort_values(ascending=False)"
   ]
  },
  {
   "cell_type": "code",
   "execution_count": 48,
   "id": "ba506144",
   "metadata": {},
   "outputs": [
    {
     "data": {
      "text/plain": [
       "Year added\n",
       "2017    23\n",
       "2016    23\n",
       "2019    22\n",
       "2008    17\n",
       "2022    16\n",
       "2024    16\n",
       "2021    15\n",
       "2023    15\n",
       "2012    14\n",
       "2018    14\n",
       "2015    14\n",
       "1997    14\n",
       "2002    13\n",
       "2007    12\n",
       "2009    12\n",
       "2020    12\n",
       "1976    11\n",
       "1998    11\n",
       "2006    10\n",
       "2013    10\n",
       "2011    10\n",
       "2000     9\n",
       "2010     9\n",
       "1999     9\n",
       "2014     8\n",
       "2001     8\n",
       "2005     7\n",
       "1994     7\n",
       "1985     7\n",
       "1995     7\n",
       "2004     6\n",
       "2003     5\n",
       "2025     5\n",
       "1989     5\n",
       "1982     5\n",
       "1984     5\n",
       "1988     4\n",
       "1986     3\n",
       "1992     3\n",
       "1980     3\n",
       "1993     3\n",
       "1983     3\n",
       "1981     3\n",
       "1972     2\n",
       "1973     2\n",
       "1970     2\n",
       "1975     2\n",
       "1965     2\n",
       "1996     2\n",
       "1969     2\n",
       "1987     2\n",
       "1979     2\n",
       "1991     1\n",
       "1974     1\n",
       "1964     1\n",
       "1978     1\n",
       "Name: count, dtype: int64"
      ]
     },
     "execution_count": 48,
     "metadata": {},
     "output_type": "execute_result"
    }
   ],
   "source": [
    "\n",
    "mask = df_additions['Year added'] == 1957\n",
    "# select all rows except the ones that contain '1957'\n",
    "df_additions = df_additions[~mask]\n",
    "\n",
    "df_additions['Year added'].value_counts().sort_values(ascending=False)\n",
    "\n"
   ]
  },
  {
   "cell_type": "code",
   "execution_count": null,
   "id": "326dff40",
   "metadata": {},
   "outputs": [],
   "source": []
  },
  {
   "cell_type": "markdown",
   "id": "1d0ed73f",
   "metadata": {},
   "source": [
    "# 2 [Macro] Indexes YTD (as of 1 May 2025)"
   ]
  },
  {
   "cell_type": "code",
   "execution_count": 51,
   "id": "fda1f4d8",
   "metadata": {},
   "outputs": [
    {
     "name": "stdout",
     "output_type": "stream",
     "text": [
      "Period for indexes: 2025-01-01 to 2025-05-01 \n"
     ]
    }
   ],
   "source": [
    "start = date(2025, 1, 1)\n",
    "end = date(2025, 5, 1)\n",
    "\n",
    "print(f'Period for indexes: {start} to {end} ')"
   ]
  },
  {
   "cell_type": "code",
   "execution_count": null,
   "id": "aa31f6e8",
   "metadata": {},
   "outputs": [],
   "source": []
  },
  {
   "cell_type": "code",
   "execution_count": 104,
   "id": "fb28fc50",
   "metadata": {},
   "outputs": [],
   "source": [
    "\n",
    "index_info = {\n",
    "    'United States': '^GSPC',\n",
    "    'China': '000001.SS',\n",
    "    'Hong Kong': '^HSI',\n",
    "    'Australia': '^AXJO',\n",
    "    'India': '^NSEI',\n",
    "    'Canada': '^GSPTSE',\n",
    "    'Germany': '^GDAXI',\n",
    "    'United Kingdom': '^FTSE',\n",
    "    'Japan': '^N225',\n",
    "    'Mexico': '^MXX',\n",
    "    'Brazil': '^BVSP'\n",
    "}\n",
    "\n"
   ]
  },
  {
   "cell_type": "code",
   "execution_count": 112,
   "id": "162c9973",
   "metadata": {},
   "outputs": [
    {
     "name": "stdout",
     "output_type": "stream",
     "text": [
      "                YTD Return (%)\n",
      "Mexico               13.049444\n",
      "Hong Kong            12.720018\n",
      "Brazil               12.438710\n",
      "Germany              12.346378\n",
      "United Kingdom        2.842590\n",
      "India                 2.490424\n",
      "China                 0.504817\n",
      "Canada               -0.226126\n",
      "Australia            -0.914500\n",
      "United States        -5.103301\n",
      "Japan                -8.297931\n",
      "Number of indexes with better YTD return than S&P500: 9\n"
     ]
    }
   ],
   "source": [
    "# Create an empty dictionary to store data\n",
    "ytd_returns = {}\n",
    "\n",
    "for country, ticker in index_info.items():\n",
    "    ticker_obj = yf.Ticker(ticker)\n",
    "    df = ticker_obj.history(start=start, end=end, interval=\"1d\")\n",
    "    \n",
    "    if not df.empty:\n",
    "        # Usa solo la colonna Close\n",
    "        close_prices = df['Close'].dropna()\n",
    "        if not close_prices.empty:\n",
    "            start_price = close_prices.iloc[0]\n",
    "            end_price = close_prices.iloc[-1]\n",
    "            ytd = (end_price / start_price - 1) * 100\n",
    "            ytd_returns[country] = ytd\n",
    "\n",
    "\n",
    "# Convert dictionary to DataFrame and sort by YTD Return (%) \n",
    "ytd_df = pd.DataFrame.from_dict(ytd_returns, orient='index', columns=['YTD Return (%)'])\n",
    "ytd_df = ytd_df.sort_values(by='YTD Return (%)', ascending=False)\n",
    "\n",
    "print(ytd_df)\n",
    "\n",
    "# Confronta con S&P500\n",
    "sp500_return = ytd_returns.get('United States', None)\n",
    "if sp500_return is not None:\n",
    "    better_than_sp500 = (ytd_df['YTD Return (%)'] > sp500_return).sum()\n",
    "    print(f\"Number of indexes with better YTD return than S&P500: {better_than_sp500}\")\n",
    "else:\n",
    "    print(\"S&P500 data not available for comparison.\")\n"
   ]
  },
  {
   "cell_type": "markdown",
   "id": "fecdc033",
   "metadata": {},
   "source": [
    "# [Index] S&P 500 Market Corrections Analysis"
   ]
  },
  {
   "cell_type": "code",
   "execution_count": 23,
   "id": "6676f998",
   "metadata": {},
   "outputs": [
    {
     "name": "stdout",
     "output_type": "stream",
     "text": [
      "Year = 2025; month= 5; day=25\n",
      "Period for indexes: 1950-01-30 to 2025-05-25 \n"
     ]
    }
   ],
   "source": [
    "end = date.today()\n",
    "print(f'Year = {end.year}; month= {end.month}; day={end.day}')\n",
    "\n",
    "start = date(1950, 1, 30)\n",
    "print(f'Period for indexes: {start} to {end} ')\n"
   ]
  },
  {
   "cell_type": "code",
   "execution_count": 24,
   "id": "c2e9b8b2",
   "metadata": {},
   "outputs": [
    {
     "data": {
      "text/html": [
       "<div>\n",
       "<style scoped>\n",
       "    .dataframe tbody tr th:only-of-type {\n",
       "        vertical-align: middle;\n",
       "    }\n",
       "\n",
       "    .dataframe tbody tr th {\n",
       "        vertical-align: top;\n",
       "    }\n",
       "\n",
       "    .dataframe thead th {\n",
       "        text-align: right;\n",
       "    }\n",
       "</style>\n",
       "<table border=\"1\" class=\"dataframe\">\n",
       "  <thead>\n",
       "    <tr style=\"text-align: right;\">\n",
       "      <th></th>\n",
       "      <th>Open</th>\n",
       "      <th>High</th>\n",
       "      <th>Low</th>\n",
       "      <th>Close</th>\n",
       "      <th>Volume</th>\n",
       "      <th>Dividends</th>\n",
       "      <th>Stock Splits</th>\n",
       "    </tr>\n",
       "    <tr>\n",
       "      <th>Date</th>\n",
       "      <th></th>\n",
       "      <th></th>\n",
       "      <th></th>\n",
       "      <th></th>\n",
       "      <th></th>\n",
       "      <th></th>\n",
       "      <th></th>\n",
       "    </tr>\n",
       "  </thead>\n",
       "  <tbody>\n",
       "    <tr>\n",
       "      <th>2025-05-12 00:00:00-04:00</th>\n",
       "      <td>5807.200195</td>\n",
       "      <td>5845.370117</td>\n",
       "      <td>5786.080078</td>\n",
       "      <td>5844.189941</td>\n",
       "      <td>6014580000</td>\n",
       "      <td>0.0</td>\n",
       "      <td>0.0</td>\n",
       "    </tr>\n",
       "    <tr>\n",
       "      <th>2025-05-13 00:00:00-04:00</th>\n",
       "      <td>5854.149902</td>\n",
       "      <td>5906.640137</td>\n",
       "      <td>5845.020020</td>\n",
       "      <td>5886.549805</td>\n",
       "      <td>5516290000</td>\n",
       "      <td>0.0</td>\n",
       "      <td>0.0</td>\n",
       "    </tr>\n",
       "    <tr>\n",
       "      <th>2025-05-14 00:00:00-04:00</th>\n",
       "      <td>5896.740234</td>\n",
       "      <td>5906.549805</td>\n",
       "      <td>5872.109863</td>\n",
       "      <td>5892.580078</td>\n",
       "      <td>5233450000</td>\n",
       "      <td>0.0</td>\n",
       "      <td>0.0</td>\n",
       "    </tr>\n",
       "    <tr>\n",
       "      <th>2025-05-15 00:00:00-04:00</th>\n",
       "      <td>5869.819824</td>\n",
       "      <td>5924.209961</td>\n",
       "      <td>5865.160156</td>\n",
       "      <td>5916.930176</td>\n",
       "      <td>4991290000</td>\n",
       "      <td>0.0</td>\n",
       "      <td>0.0</td>\n",
       "    </tr>\n",
       "    <tr>\n",
       "      <th>2025-05-16 00:00:00-04:00</th>\n",
       "      <td>5929.089844</td>\n",
       "      <td>5958.620117</td>\n",
       "      <td>5907.359863</td>\n",
       "      <td>5958.379883</td>\n",
       "      <td>4850850000</td>\n",
       "      <td>0.0</td>\n",
       "      <td>0.0</td>\n",
       "    </tr>\n",
       "    <tr>\n",
       "      <th>2025-05-19 00:00:00-04:00</th>\n",
       "      <td>5902.879883</td>\n",
       "      <td>5968.609863</td>\n",
       "      <td>5895.689941</td>\n",
       "      <td>5963.600098</td>\n",
       "      <td>4144010000</td>\n",
       "      <td>0.0</td>\n",
       "      <td>0.0</td>\n",
       "    </tr>\n",
       "    <tr>\n",
       "      <th>2025-05-20 00:00:00-04:00</th>\n",
       "      <td>5944.660156</td>\n",
       "      <td>5953.060059</td>\n",
       "      <td>5909.259766</td>\n",
       "      <td>5940.459961</td>\n",
       "      <td>4416850000</td>\n",
       "      <td>0.0</td>\n",
       "      <td>0.0</td>\n",
       "    </tr>\n",
       "    <tr>\n",
       "      <th>2025-05-21 00:00:00-04:00</th>\n",
       "      <td>5910.180176</td>\n",
       "      <td>5938.370117</td>\n",
       "      <td>5830.910156</td>\n",
       "      <td>5844.609863</td>\n",
       "      <td>5254250000</td>\n",
       "      <td>0.0</td>\n",
       "      <td>0.0</td>\n",
       "    </tr>\n",
       "    <tr>\n",
       "      <th>2025-05-22 00:00:00-04:00</th>\n",
       "      <td>5841.259766</td>\n",
       "      <td>5878.080078</td>\n",
       "      <td>5825.819824</td>\n",
       "      <td>5842.009766</td>\n",
       "      <td>5157050000</td>\n",
       "      <td>0.0</td>\n",
       "      <td>0.0</td>\n",
       "    </tr>\n",
       "    <tr>\n",
       "      <th>2025-05-23 00:00:00-04:00</th>\n",
       "      <td>5781.890137</td>\n",
       "      <td>5829.509766</td>\n",
       "      <td>5767.410156</td>\n",
       "      <td>5802.819824</td>\n",
       "      <td>4662820000</td>\n",
       "      <td>0.0</td>\n",
       "      <td>0.0</td>\n",
       "    </tr>\n",
       "  </tbody>\n",
       "</table>\n",
       "</div>"
      ],
      "text/plain": [
       "                                  Open         High          Low        Close  \\\n",
       "Date                                                                            \n",
       "2025-05-12 00:00:00-04:00  5807.200195  5845.370117  5786.080078  5844.189941   \n",
       "2025-05-13 00:00:00-04:00  5854.149902  5906.640137  5845.020020  5886.549805   \n",
       "2025-05-14 00:00:00-04:00  5896.740234  5906.549805  5872.109863  5892.580078   \n",
       "2025-05-15 00:00:00-04:00  5869.819824  5924.209961  5865.160156  5916.930176   \n",
       "2025-05-16 00:00:00-04:00  5929.089844  5958.620117  5907.359863  5958.379883   \n",
       "2025-05-19 00:00:00-04:00  5902.879883  5968.609863  5895.689941  5963.600098   \n",
       "2025-05-20 00:00:00-04:00  5944.660156  5953.060059  5909.259766  5940.459961   \n",
       "2025-05-21 00:00:00-04:00  5910.180176  5938.370117  5830.910156  5844.609863   \n",
       "2025-05-22 00:00:00-04:00  5841.259766  5878.080078  5825.819824  5842.009766   \n",
       "2025-05-23 00:00:00-04:00  5781.890137  5829.509766  5767.410156  5802.819824   \n",
       "\n",
       "                               Volume  Dividends  Stock Splits  \n",
       "Date                                                            \n",
       "2025-05-12 00:00:00-04:00  6014580000        0.0           0.0  \n",
       "2025-05-13 00:00:00-04:00  5516290000        0.0           0.0  \n",
       "2025-05-14 00:00:00-04:00  5233450000        0.0           0.0  \n",
       "2025-05-15 00:00:00-04:00  4991290000        0.0           0.0  \n",
       "2025-05-16 00:00:00-04:00  4850850000        0.0           0.0  \n",
       "2025-05-19 00:00:00-04:00  4144010000        0.0           0.0  \n",
       "2025-05-20 00:00:00-04:00  4416850000        0.0           0.0  \n",
       "2025-05-21 00:00:00-04:00  5254250000        0.0           0.0  \n",
       "2025-05-22 00:00:00-04:00  5157050000        0.0           0.0  \n",
       "2025-05-23 00:00:00-04:00  4662820000        0.0           0.0  "
      ]
     },
     "execution_count": 24,
     "metadata": {},
     "output_type": "execute_result"
    }
   ],
   "source": [
    "\n",
    "# Download S&P 500 data\n",
    "ticker_obj = yf.Ticker(\"^GSPC\")\n",
    "sp500_daily = ticker_obj.history(start = start, end = end)\n",
    "\n",
    "sp500_daily.tail(10)"
   ]
  },
  {
   "cell_type": "code",
   "execution_count": 25,
   "id": "f52d5f84",
   "metadata": {},
   "outputs": [
    {
     "data": {
      "text/plain": [
       "<Axes: xlabel='Date'>"
      ]
     },
     "execution_count": 25,
     "metadata": {},
     "output_type": "execute_result"
    },
    {
     "data": {
      "image/png": "[encoded data removed]",
      "text/plain": [
       "<Figure size 640x480 with 1 Axes>"
      ]
     },
     "metadata": {},
     "output_type": "display_data"
    }
   ],
   "source": [
    "sp500_daily['Close'].plot.line()"
   ]
  },
  {
   "cell_type": "code",
   "execution_count": 54,
   "id": "2ef3fc43",
   "metadata": {},
   "outputs": [
    {
     "name": "stdout",
     "output_type": "stream",
     "text": [
      "Median Correction Duration (peak to recovery, days): 89.0\n"
     ]
    },
    {
     "name": "stderr",
     "output_type": "stream",
     "text": [
      "/var/folders/94/c9w07ypn0s31_b9lsdglwwnw0000gn/T/ipykernel_42772/519348409.py:12: DeprecationWarning: DataFrameGroupBy.apply operated on the grouping columns. This behavior is deprecated, and in a future version of pandas the grouping columns will be excluded from the operation. Either pass `include_groups=False` to exclude the groupings or explicitly select the grouping columns after groupby to silence this warning.\n",
      "  correction_starts = corrections.groupby('Correction Group').apply(lambda x: x.index.min())\n"
     ]
    }
   ],
   "source": [
    "sp500_daily['Peak'] = sp500_daily['Close'].cummax()\n",
    "sp500_daily['Drawdown'] = (sp500_daily['Close'] / sp500_daily['Peak'] - 1) * 100\n",
    "\n",
    "sp500_daily['InCorrection'] = sp500_daily['Drawdown'] < -5\n",
    "\n",
    "sp500_daily['Correction Shift'] = sp500_daily['InCorrection'].shift(1, fill_value=False)\n",
    "sp500_daily['Correction Change'] = sp500_daily['InCorrection'] != sp500_daily['Correction Shift']\n",
    "sp500_daily['Correction Group'] = sp500_daily['Correction Change'].cumsum()\n",
    "\n",
    "corrections = sp500_daily[sp500_daily['InCorrection']]\n",
    "\n",
    "correction_starts = corrections.groupby('Correction Group').apply(lambda x: x.index.min())\n",
    "\n",
    "correction_durations = []\n",
    "\n",
    "for group, start_date in correction_starts.items():\n",
    "    # Find previous ATH before correction started\n",
    "    previous_ath = sp500_daily.loc[:start_date]['Peak'].iloc[-1]\n",
    "    \n",
    "    # Correction ends when Close >= previous ATH\n",
    "    recovery_period = sp500_daily.loc[start_date:]\n",
    "    recovery_date = recovery_period[recovery_period['Close'] >= previous_ath].index.min()\n",
    "    \n",
    "    if pd.notnull(recovery_date):\n",
    "        duration = (recovery_date - start_date).days + 1\n",
    "        correction_durations.append(duration)\n",
    "\n",
    "\n",
    "correction_durations_series = pd.Series(correction_durations)\n",
    "\n",
    "median_duration = correction_durations_series.median()\n",
    "print(\"Median Correction Duration (peak to recovery, days):\", median_duration)"
   ]
  },
  {
   "cell_type": "markdown",
   "id": "1fe0b0e7",
   "metadata": {},
   "source": [
    "# [Stocks] Earnings Surprise Analysis for Amazon (AMZN)"
   ]
  },
  {
   "cell_type": "code",
   "execution_count": 126,
   "id": "938e0b3e",
   "metadata": {},
   "outputs": [
    {
     "name": "stdout",
     "output_type": "stream",
     "text": [
      "  Symbol           Company                 Earnings Date EPS Estimate  \\\n",
      "0   AMZN    Amazon.com Inc    April 29, 2026 at 6 AM EDT            -   \n",
      "1   AMZN    Amazon.com Inc  February 4, 2026 at 4 PM EST            -   \n",
      "2   AMZN    Amazon.com Inc  October 29, 2025 at 6 AM EDT            -   \n",
      "3   AMZN    Amazon.com Inc     July 30, 2025 at 4 PM EDT            -   \n",
      "4   AMZN  Amazon.com, Inc.       May 1, 2025 at 4 PM EDT       ???.36   \n",
      "5   AMZN  Amazon.com, Inc.  February 6, 2025 at 4 PM EST       ???.49   \n",
      "6   AMZN  Amazon.com, Inc.  October 31, 2024 at 4 PM EDT       ???.14   \n",
      "7   AMZN  Amazon.com, Inc.    August 1, 2024 at 4 PM EDT       01.???   \n",
      "8   AMZN  Amazon.com, Inc.    April 30, 2024 at 4 PM EDT         0.83   \n",
      "9   AMZN  Amazon.com, Inc.  February 1, 2024 at 4 PM EST          0.8   \n",
      "\n",
      "  Reported EPS Surprise (%)  \n",
      "0            -            -  \n",
      "1            -            -  \n",
      "2            -            -  \n",
      "3            -            -  \n",
      "4       ???.59       +16.74  \n",
      "5       ???.86       +24.47  \n",
      "6       ???.43       +25.17  \n",
      "7       ???.26       +22.58  \n",
      "8         0.98       +17.91  \n",
      "9            1       +24.55  \n"
     ]
    }
   ],
   "source": [
    "# Replace 'ha1_Amazon.csv' with your actual filename if needed\n",
    "earnings_df = pd.read_csv(\n",
    "    \"ha1_Amazon.csv\",\n",
    "    sep=';',\n",
    "    encoding='utf-8'\n",
    ")\n",
    "\n",
    "print(earnings_df.head(10))"
   ]
  },
  {
   "cell_type": "code",
   "execution_count": 127,
   "id": "74836fc6",
   "metadata": {},
   "outputs": [
    {
     "name": "stdout",
     "output_type": "stream",
     "text": [
      "  symbol           company                 earnings_date eps_estimate  \\\n",
      "0   AMZN    Amazon.com Inc    April 29, 2026 at 6 AM EDT            -   \n",
      "1   AMZN    Amazon.com Inc  February 4, 2026 at 4 PM EST            -   \n",
      "2   AMZN    Amazon.com Inc  October 29, 2025 at 6 AM EDT            -   \n",
      "3   AMZN    Amazon.com Inc     July 30, 2025 at 4 PM EDT            -   \n",
      "4   AMZN  Amazon.com, Inc.       May 1, 2025 at 4 PM EDT       ???.36   \n",
      "\n",
      "  reported_eps surprise_(%)  \n",
      "0            -            -  \n",
      "1            -            -  \n",
      "2            -            -  \n",
      "3            -            -  \n",
      "4       ???.59       +16.74  \n"
     ]
    }
   ],
   "source": [
    "\n",
    "earnings_df.columns = earnings_df.columns.str.lower()\n",
    "earnings_df.columns = earnings_df.columns.str.replace(' ', '_')\n",
    "\n",
    "print(earnings_df.head())"
   ]
  },
  {
   "cell_type": "code",
   "execution_count": 128,
   "id": "9a360bc5",
   "metadata": {},
   "outputs": [
    {
     "name": "stdout",
     "output_type": "stream",
     "text": [
      "  symbol           company                 earnings_date  eps_estimate  \\\n",
      "0   AMZN    Amazon.com Inc    April 29, 2026 at 6 AM EDT           NaN   \n",
      "1   AMZN    Amazon.com Inc  February 4, 2026 at 4 PM EST           NaN   \n",
      "2   AMZN    Amazon.com Inc  October 29, 2025 at 6 AM EDT           NaN   \n",
      "3   AMZN    Amazon.com Inc     July 30, 2025 at 4 PM EDT           NaN   \n",
      "4   AMZN  Amazon.com, Inc.       May 1, 2025 at 4 PM EDT           NaN   \n",
      "\n",
      "   reported_eps  surprise_(%)  \n",
      "0           NaN           NaN  \n",
      "1           NaN           NaN  \n",
      "2           NaN           NaN  \n",
      "3           NaN           NaN  \n",
      "4           NaN         16.74  \n"
     ]
    }
   ],
   "source": [
    "\n",
    "cols_to_convert = ['eps_estimate', 'reported_eps', 'surprise_(%)']\n",
    "for col in cols_to_convert:\n",
    "    earnings_df[col] = pd.to_numeric(earnings_df[col], errors='coerce')\n",
    "\n",
    "print(earnings_df.head())"
   ]
  },
  {
   "cell_type": "code",
   "execution_count": 129,
   "id": "6dd10138",
   "metadata": {},
   "outputs": [
    {
     "data": {
      "text/html": [
       "<div>\n",
       "<style scoped>\n",
       "    .dataframe tbody tr th:only-of-type {\n",
       "        vertical-align: middle;\n",
       "    }\n",
       "\n",
       "    .dataframe tbody tr th {\n",
       "        vertical-align: top;\n",
       "    }\n",
       "\n",
       "    .dataframe thead th {\n",
       "        text-align: right;\n",
       "    }\n",
       "</style>\n",
       "<table border=\"1\" class=\"dataframe\">\n",
       "  <thead>\n",
       "    <tr style=\"text-align: right;\">\n",
       "      <th></th>\n",
       "      <th>symbol</th>\n",
       "      <th>company</th>\n",
       "      <th>earnings_date</th>\n",
       "      <th>eps_estimate</th>\n",
       "      <th>reported_eps</th>\n",
       "      <th>surprise_(%)</th>\n",
       "    </tr>\n",
       "  </thead>\n",
       "  <tbody>\n",
       "    <tr>\n",
       "      <th>0</th>\n",
       "      <td>AMZN</td>\n",
       "      <td>Amazon.com Inc</td>\n",
       "      <td>2026-04-29</td>\n",
       "      <td>NaN</td>\n",
       "      <td>NaN</td>\n",
       "      <td>NaN</td>\n",
       "    </tr>\n",
       "    <tr>\n",
       "      <th>1</th>\n",
       "      <td>AMZN</td>\n",
       "      <td>Amazon.com Inc</td>\n",
       "      <td>2026-02-04</td>\n",
       "      <td>NaN</td>\n",
       "      <td>NaN</td>\n",
       "      <td>NaN</td>\n",
       "    </tr>\n",
       "    <tr>\n",
       "      <th>2</th>\n",
       "      <td>AMZN</td>\n",
       "      <td>Amazon.com Inc</td>\n",
       "      <td>2025-10-29</td>\n",
       "      <td>NaN</td>\n",
       "      <td>NaN</td>\n",
       "      <td>NaN</td>\n",
       "    </tr>\n",
       "    <tr>\n",
       "      <th>3</th>\n",
       "      <td>AMZN</td>\n",
       "      <td>Amazon.com Inc</td>\n",
       "      <td>2025-07-30</td>\n",
       "      <td>NaN</td>\n",
       "      <td>NaN</td>\n",
       "      <td>NaN</td>\n",
       "    </tr>\n",
       "    <tr>\n",
       "      <th>4</th>\n",
       "      <td>AMZN</td>\n",
       "      <td>Amazon.com Inc.</td>\n",
       "      <td>2025-05-01</td>\n",
       "      <td>NaN</td>\n",
       "      <td>NaN</td>\n",
       "      <td>16.74</td>\n",
       "    </tr>\n",
       "  </tbody>\n",
       "</table>\n",
       "</div>"
      ],
      "text/plain": [
       "  symbol          company earnings_date  eps_estimate  reported_eps  \\\n",
       "0   AMZN   Amazon.com Inc    2026-04-29           NaN           NaN   \n",
       "1   AMZN   Amazon.com Inc    2026-02-04           NaN           NaN   \n",
       "2   AMZN   Amazon.com Inc    2025-10-29           NaN           NaN   \n",
       "3   AMZN   Amazon.com Inc    2025-07-30           NaN           NaN   \n",
       "4   AMZN  Amazon.com Inc.    2025-05-01           NaN           NaN   \n",
       "\n",
       "   surprise_(%)  \n",
       "0           NaN  \n",
       "1           NaN  \n",
       "2           NaN  \n",
       "3           NaN  \n",
       "4         16.74  "
      ]
     },
     "execution_count": 129,
     "metadata": {},
     "output_type": "execute_result"
    }
   ],
   "source": [
    "\n",
    "# normalize company names\n",
    "earnings_df[\"company\"] = earnings_df[\"company\"].str.replace(\",\", \"\").str.strip()\n",
    "\n",
    "# convert earnings date to datetime\n",
    "earnings_df['earnings_date'] = earnings_df['earnings_date'].str.split(' at').str[0]\n",
    "earnings_df['earnings_date'] = pd.to_datetime(earnings_df['earnings_date'], errors='coerce')\n",
    "\n",
    "earnings_df.head()"
   ]
  },
  {
   "cell_type": "code",
   "execution_count": 130,
   "id": "5111f311",
   "metadata": {},
   "outputs": [
    {
     "data": {
      "text/html": [
       "<div>\n",
       "<style scoped>\n",
       "    .dataframe tbody tr th:only-of-type {\n",
       "        vertical-align: middle;\n",
       "    }\n",
       "\n",
       "    .dataframe tbody tr th {\n",
       "        vertical-align: top;\n",
       "    }\n",
       "\n",
       "    .dataframe thead th {\n",
       "        text-align: right;\n",
       "    }\n",
       "</style>\n",
       "<table border=\"1\" class=\"dataframe\">\n",
       "  <thead>\n",
       "    <tr style=\"text-align: right;\">\n",
       "      <th></th>\n",
       "      <th>symbol</th>\n",
       "      <th>company</th>\n",
       "      <th>earnings_date</th>\n",
       "      <th>eps_estimate</th>\n",
       "      <th>reported_eps</th>\n",
       "      <th>surprise_(%)</th>\n",
       "    </tr>\n",
       "  </thead>\n",
       "  <tbody>\n",
       "    <tr>\n",
       "      <th>4</th>\n",
       "      <td>AMZN</td>\n",
       "      <td>Amazon.com Inc.</td>\n",
       "      <td>2025-05-01</td>\n",
       "      <td>NaN</td>\n",
       "      <td>NaN</td>\n",
       "      <td>16.74</td>\n",
       "    </tr>\n",
       "    <tr>\n",
       "      <th>5</th>\n",
       "      <td>AMZN</td>\n",
       "      <td>Amazon.com Inc.</td>\n",
       "      <td>2025-02-06</td>\n",
       "      <td>NaN</td>\n",
       "      <td>NaN</td>\n",
       "      <td>24.47</td>\n",
       "    </tr>\n",
       "    <tr>\n",
       "      <th>6</th>\n",
       "      <td>AMZN</td>\n",
       "      <td>Amazon.com Inc.</td>\n",
       "      <td>2024-10-31</td>\n",
       "      <td>NaN</td>\n",
       "      <td>NaN</td>\n",
       "      <td>25.17</td>\n",
       "    </tr>\n",
       "    <tr>\n",
       "      <th>7</th>\n",
       "      <td>AMZN</td>\n",
       "      <td>Amazon.com Inc.</td>\n",
       "      <td>2024-08-01</td>\n",
       "      <td>NaN</td>\n",
       "      <td>NaN</td>\n",
       "      <td>22.58</td>\n",
       "    </tr>\n",
       "    <tr>\n",
       "      <th>8</th>\n",
       "      <td>AMZN</td>\n",
       "      <td>Amazon.com Inc.</td>\n",
       "      <td>2024-04-30</td>\n",
       "      <td>0.83</td>\n",
       "      <td>0.98</td>\n",
       "      <td>17.91</td>\n",
       "    </tr>\n",
       "  </tbody>\n",
       "</table>\n",
       "</div>"
      ],
      "text/plain": [
       "  symbol          company earnings_date  eps_estimate  reported_eps  \\\n",
       "4   AMZN  Amazon.com Inc.    2025-05-01           NaN           NaN   \n",
       "5   AMZN  Amazon.com Inc.    2025-02-06           NaN           NaN   \n",
       "6   AMZN  Amazon.com Inc.    2024-10-31           NaN           NaN   \n",
       "7   AMZN  Amazon.com Inc.    2024-08-01           NaN           NaN   \n",
       "8   AMZN  Amazon.com Inc.    2024-04-30          0.83          0.98   \n",
       "\n",
       "   surprise_(%)  \n",
       "4         16.74  \n",
       "5         24.47  \n",
       "6         25.17  \n",
       "7         22.58  \n",
       "8         17.91  "
      ]
     },
     "execution_count": 130,
     "metadata": {},
     "output_type": "execute_result"
    }
   ],
   "source": [
    "\n",
    "# Filter positive surprises\n",
    "pos_sur_earnings_df=earnings_df[earnings_df['surprise_(%)'].astype(float)>0]\n",
    "pos_sur_earnings_df.head()"
   ]
  },
  {
   "cell_type": "code",
   "execution_count": 131,
   "id": "d583165c",
   "metadata": {},
   "outputs": [
    {
     "name": "stderr",
     "output_type": "stream",
     "text": [
      "[*********************100%***********************]  1 of 1 completed\n"
     ]
    },
    {
     "data": {
      "text/html": [
       "<div>\n",
       "<style scoped>\n",
       "    .dataframe tbody tr th:only-of-type {\n",
       "        vertical-align: middle;\n",
       "    }\n",
       "\n",
       "    .dataframe tbody tr th {\n",
       "        vertical-align: top;\n",
       "    }\n",
       "\n",
       "    .dataframe thead th {\n",
       "        text-align: right;\n",
       "    }\n",
       "</style>\n",
       "<table border=\"1\" class=\"dataframe\">\n",
       "  <thead>\n",
       "    <tr style=\"text-align: right;\">\n",
       "      <th>Price</th>\n",
       "      <th>Date</th>\n",
       "      <th>Close</th>\n",
       "      <th>High</th>\n",
       "      <th>Low</th>\n",
       "      <th>Open</th>\n",
       "      <th>Volume</th>\n",
       "    </tr>\n",
       "  </thead>\n",
       "  <tbody>\n",
       "    <tr>\n",
       "      <th>0</th>\n",
       "      <td>1997-05-15</td>\n",
       "      <td>0.097917</td>\n",
       "      <td>0.125000</td>\n",
       "      <td>0.096354</td>\n",
       "      <td>0.121875</td>\n",
       "      <td>1443120000</td>\n",
       "    </tr>\n",
       "    <tr>\n",
       "      <th>1</th>\n",
       "      <td>1997-05-16</td>\n",
       "      <td>0.086458</td>\n",
       "      <td>0.098958</td>\n",
       "      <td>0.085417</td>\n",
       "      <td>0.098438</td>\n",
       "      <td>294000000</td>\n",
       "    </tr>\n",
       "    <tr>\n",
       "      <th>2</th>\n",
       "      <td>1997-05-19</td>\n",
       "      <td>0.085417</td>\n",
       "      <td>0.088542</td>\n",
       "      <td>0.081250</td>\n",
       "      <td>0.088021</td>\n",
       "      <td>122136000</td>\n",
       "    </tr>\n",
       "    <tr>\n",
       "      <th>3</th>\n",
       "      <td>1997-05-20</td>\n",
       "      <td>0.081771</td>\n",
       "      <td>0.087500</td>\n",
       "      <td>0.081771</td>\n",
       "      <td>0.086458</td>\n",
       "      <td>109344000</td>\n",
       "    </tr>\n",
       "    <tr>\n",
       "      <th>4</th>\n",
       "      <td>1997-05-21</td>\n",
       "      <td>0.071354</td>\n",
       "      <td>0.082292</td>\n",
       "      <td>0.068750</td>\n",
       "      <td>0.081771</td>\n",
       "      <td>377064000</td>\n",
       "    </tr>\n",
       "  </tbody>\n",
       "</table>\n",
       "</div>"
      ],
      "text/plain": [
       "Price       Date     Close      High       Low      Open      Volume\n",
       "0     1997-05-15  0.097917  0.125000  0.096354  0.121875  1443120000\n",
       "1     1997-05-16  0.086458  0.098958  0.085417  0.098438   294000000\n",
       "2     1997-05-19  0.085417  0.088542  0.081250  0.088021   122136000\n",
       "3     1997-05-20  0.081771  0.087500  0.081771  0.086458   109344000\n",
       "4     1997-05-21  0.071354  0.082292  0.068750  0.081771   377064000"
      ]
     },
     "execution_count": 131,
     "metadata": {},
     "output_type": "execute_result"
    }
   ],
   "source": [
    "\n",
    "amzn_daily_df = yf.download(\n",
    "    'amzn',\n",
    "    start='1950-01-01',\n",
    "    end=date.today().strftime('%Y-%m-%d')\n",
    ").reset_index()\n",
    "\n",
    "amzn_daily_df.columns = amzn_daily_df.columns.droplevel(1)\n",
    "amzn_daily_df['Date'] = pd.to_datetime(amzn_daily_df['Date'], errors='coerce')\n",
    "\n",
    "amzn_daily_df.head()"
   ]
  },
  {
   "cell_type": "code",
   "execution_count": 132,
   "id": "d547ba03",
   "metadata": {},
   "outputs": [
    {
     "data": {
      "text/html": [
       "<div>\n",
       "<style scoped>\n",
       "    .dataframe tbody tr th:only-of-type {\n",
       "        vertical-align: middle;\n",
       "    }\n",
       "\n",
       "    .dataframe tbody tr th {\n",
       "        vertical-align: top;\n",
       "    }\n",
       "\n",
       "    .dataframe thead th {\n",
       "        text-align: right;\n",
       "    }\n",
       "</style>\n",
       "<table border=\"1\" class=\"dataframe\">\n",
       "  <thead>\n",
       "    <tr style=\"text-align: right;\">\n",
       "      <th>Price</th>\n",
       "      <th>Date</th>\n",
       "      <th>Close</th>\n",
       "      <th>High</th>\n",
       "      <th>Low</th>\n",
       "      <th>Open</th>\n",
       "      <th>Volume</th>\n",
       "      <th>two_day_pct_change</th>\n",
       "    </tr>\n",
       "  </thead>\n",
       "  <tbody>\n",
       "    <tr>\n",
       "      <th>0</th>\n",
       "      <td>1997-05-15</td>\n",
       "      <td>0.097917</td>\n",
       "      <td>0.125000</td>\n",
       "      <td>0.096354</td>\n",
       "      <td>0.121875</td>\n",
       "      <td>1443120000</td>\n",
       "      <td>-0.127659</td>\n",
       "    </tr>\n",
       "    <tr>\n",
       "      <th>1</th>\n",
       "      <td>1997-05-16</td>\n",
       "      <td>0.086458</td>\n",
       "      <td>0.098958</td>\n",
       "      <td>0.085417</td>\n",
       "      <td>0.098438</td>\n",
       "      <td>294000000</td>\n",
       "      <td>-0.054211</td>\n",
       "    </tr>\n",
       "    <tr>\n",
       "      <th>2</th>\n",
       "      <td>1997-05-19</td>\n",
       "      <td>0.085417</td>\n",
       "      <td>0.088542</td>\n",
       "      <td>0.081250</td>\n",
       "      <td>0.088021</td>\n",
       "      <td>122136000</td>\n",
       "      <td>-0.164639</td>\n",
       "    </tr>\n",
       "    <tr>\n",
       "      <th>3</th>\n",
       "      <td>1997-05-20</td>\n",
       "      <td>0.081771</td>\n",
       "      <td>0.087500</td>\n",
       "      <td>0.081771</td>\n",
       "      <td>0.086458</td>\n",
       "      <td>109344000</td>\n",
       "      <td>-0.146494</td>\n",
       "    </tr>\n",
       "    <tr>\n",
       "      <th>4</th>\n",
       "      <td>1997-05-21</td>\n",
       "      <td>0.071354</td>\n",
       "      <td>0.082292</td>\n",
       "      <td>0.068750</td>\n",
       "      <td>0.081771</td>\n",
       "      <td>377064000</td>\n",
       "      <td>0.051097</td>\n",
       "    </tr>\n",
       "  </tbody>\n",
       "</table>\n",
       "</div>"
      ],
      "text/plain": [
       "Price       Date     Close      High       Low      Open      Volume  \\\n",
       "0     1997-05-15  0.097917  0.125000  0.096354  0.121875  1443120000   \n",
       "1     1997-05-16  0.086458  0.098958  0.085417  0.098438   294000000   \n",
       "2     1997-05-19  0.085417  0.088542  0.081250  0.088021   122136000   \n",
       "3     1997-05-20  0.081771  0.087500  0.081771  0.086458   109344000   \n",
       "4     1997-05-21  0.071354  0.082292  0.068750  0.081771   377064000   \n",
       "\n",
       "Price  two_day_pct_change  \n",
       "0               -0.127659  \n",
       "1               -0.054211  \n",
       "2               -0.164639  \n",
       "3               -0.146494  \n",
       "4                0.051097  "
      ]
     },
     "execution_count": 132,
     "metadata": {},
     "output_type": "execute_result"
    },
    {
     "data": {
      "image/png": "[encoded data removed]",
      "text/plain": [
       "<Figure size 640x480 with 1 Axes>"
      ]
     },
     "metadata": {},
     "output_type": "display_data"
    }
   ],
   "source": [
    "# Calculate 2-day percentage change\n",
    "amzn_daily_df['two_day_pct_change'] = amzn_daily_df['Close'].shift(-2) / amzn_daily_df['Close'] - 1\n",
    "amzn_daily_df['two_day_pct_change'].plot()\n",
    "\n",
    "amzn_daily_df.head()"
   ]
  },
  {
   "cell_type": "code",
   "execution_count": 133,
   "id": "015f2e2f",
   "metadata": {},
   "outputs": [
    {
     "data": {
      "text/html": [
       "<div>\n",
       "<style scoped>\n",
       "    .dataframe tbody tr th:only-of-type {\n",
       "        vertical-align: middle;\n",
       "    }\n",
       "\n",
       "    .dataframe tbody tr th {\n",
       "        vertical-align: top;\n",
       "    }\n",
       "\n",
       "    .dataframe thead th {\n",
       "        text-align: right;\n",
       "    }\n",
       "</style>\n",
       "<table border=\"1\" class=\"dataframe\">\n",
       "  <thead>\n",
       "    <tr style=\"text-align: right;\">\n",
       "      <th></th>\n",
       "      <th>symbol</th>\n",
       "      <th>company</th>\n",
       "      <th>earnings_date</th>\n",
       "      <th>eps_estimate</th>\n",
       "      <th>reported_eps</th>\n",
       "      <th>surprise_(%)</th>\n",
       "    </tr>\n",
       "  </thead>\n",
       "  <tbody>\n",
       "    <tr>\n",
       "      <th>4</th>\n",
       "      <td>AMZN</td>\n",
       "      <td>Amazon.com Inc.</td>\n",
       "      <td>2025-05-01</td>\n",
       "      <td>NaN</td>\n",
       "      <td>NaN</td>\n",
       "      <td>16.74</td>\n",
       "    </tr>\n",
       "    <tr>\n",
       "      <th>5</th>\n",
       "      <td>AMZN</td>\n",
       "      <td>Amazon.com Inc.</td>\n",
       "      <td>2025-02-06</td>\n",
       "      <td>NaN</td>\n",
       "      <td>NaN</td>\n",
       "      <td>24.47</td>\n",
       "    </tr>\n",
       "    <tr>\n",
       "      <th>6</th>\n",
       "      <td>AMZN</td>\n",
       "      <td>Amazon.com Inc.</td>\n",
       "      <td>2024-10-31</td>\n",
       "      <td>NaN</td>\n",
       "      <td>NaN</td>\n",
       "      <td>25.17</td>\n",
       "    </tr>\n",
       "    <tr>\n",
       "      <th>7</th>\n",
       "      <td>AMZN</td>\n",
       "      <td>Amazon.com Inc.</td>\n",
       "      <td>2024-08-01</td>\n",
       "      <td>NaN</td>\n",
       "      <td>NaN</td>\n",
       "      <td>22.58</td>\n",
       "    </tr>\n",
       "    <tr>\n",
       "      <th>8</th>\n",
       "      <td>AMZN</td>\n",
       "      <td>Amazon.com Inc.</td>\n",
       "      <td>2024-04-30</td>\n",
       "      <td>0.83</td>\n",
       "      <td>0.98</td>\n",
       "      <td>17.91</td>\n",
       "    </tr>\n",
       "    <tr>\n",
       "      <th>...</th>\n",
       "      <td>...</td>\n",
       "      <td>...</td>\n",
       "      <td>...</td>\n",
       "      <td>...</td>\n",
       "      <td>...</td>\n",
       "      <td>...</td>\n",
       "    </tr>\n",
       "    <tr>\n",
       "      <th>111</th>\n",
       "      <td>AMZN</td>\n",
       "      <td>Amazon.com Inc.</td>\n",
       "      <td>1998-07-22</td>\n",
       "      <td>NaN</td>\n",
       "      <td>NaN</td>\n",
       "      <td>1.34</td>\n",
       "    </tr>\n",
       "    <tr>\n",
       "      <th>112</th>\n",
       "      <td>AMZN</td>\n",
       "      <td>Amazon.com Inc.</td>\n",
       "      <td>1998-04-27</td>\n",
       "      <td>NaN</td>\n",
       "      <td>NaN</td>\n",
       "      <td>13.92</td>\n",
       "    </tr>\n",
       "    <tr>\n",
       "      <th>113</th>\n",
       "      <td>AMZN</td>\n",
       "      <td>Amazon.com Inc.</td>\n",
       "      <td>1998-01-22</td>\n",
       "      <td>NaN</td>\n",
       "      <td>NaN</td>\n",
       "      <td>11.41</td>\n",
       "    </tr>\n",
       "    <tr>\n",
       "      <th>114</th>\n",
       "      <td>AMZN</td>\n",
       "      <td>Amazon.com Inc.</td>\n",
       "      <td>1997-10-27</td>\n",
       "      <td>NaN</td>\n",
       "      <td>NaN</td>\n",
       "      <td>13.29</td>\n",
       "    </tr>\n",
       "    <tr>\n",
       "      <th>115</th>\n",
       "      <td>AMZN</td>\n",
       "      <td>Amazon.com Inc.</td>\n",
       "      <td>1997-07-10</td>\n",
       "      <td>NaN</td>\n",
       "      <td>NaN</td>\n",
       "      <td>13.33</td>\n",
       "    </tr>\n",
       "  </tbody>\n",
       "</table>\n",
       "<p>86 rows × 6 columns</p>\n",
       "</div>"
      ],
      "text/plain": [
       "    symbol          company earnings_date  eps_estimate  reported_eps  \\\n",
       "4     AMZN  Amazon.com Inc.    2025-05-01           NaN           NaN   \n",
       "5     AMZN  Amazon.com Inc.    2025-02-06           NaN           NaN   \n",
       "6     AMZN  Amazon.com Inc.    2024-10-31           NaN           NaN   \n",
       "7     AMZN  Amazon.com Inc.    2024-08-01           NaN           NaN   \n",
       "8     AMZN  Amazon.com Inc.    2024-04-30          0.83          0.98   \n",
       "..     ...              ...           ...           ...           ...   \n",
       "111   AMZN  Amazon.com Inc.    1998-07-22           NaN           NaN   \n",
       "112   AMZN  Amazon.com Inc.    1998-04-27           NaN           NaN   \n",
       "113   AMZN  Amazon.com Inc.    1998-01-22           NaN           NaN   \n",
       "114   AMZN  Amazon.com Inc.    1997-10-27           NaN           NaN   \n",
       "115   AMZN  Amazon.com Inc.    1997-07-10           NaN           NaN   \n",
       "\n",
       "     surprise_(%)  \n",
       "4           16.74  \n",
       "5           24.47  \n",
       "6           25.17  \n",
       "7           22.58  \n",
       "8           17.91  \n",
       "..            ...  \n",
       "111          1.34  \n",
       "112         13.92  \n",
       "113         11.41  \n",
       "114         13.29  \n",
       "115         13.33  \n",
       "\n",
       "[86 rows x 6 columns]"
      ]
     },
     "execution_count": 133,
     "metadata": {},
     "output_type": "execute_result"
    }
   ],
   "source": [
    "\n",
    "# Filter earnings with positive reported EPS or positive surprise\n",
    "amazon_earnings_positive = earnings_df[(earnings_df['reported_eps'] > earnings_df['eps_estimate']) | (earnings_df['surprise_(%)'] > 0)]\n",
    "\n",
    "amazon_earnings_positive"
   ]
  },
  {
   "cell_type": "code",
   "execution_count": 134,
   "id": "ee6ecb51",
   "metadata": {},
   "outputs": [
    {
     "data": {
      "text/html": [
       "<div>\n",
       "<style scoped>\n",
       "    .dataframe tbody tr th:only-of-type {\n",
       "        vertical-align: middle;\n",
       "    }\n",
       "\n",
       "    .dataframe tbody tr th {\n",
       "        vertical-align: top;\n",
       "    }\n",
       "\n",
       "    .dataframe thead th {\n",
       "        text-align: right;\n",
       "    }\n",
       "</style>\n",
       "<table border=\"1\" class=\"dataframe\">\n",
       "  <thead>\n",
       "    <tr style=\"text-align: right;\">\n",
       "      <th></th>\n",
       "      <th>Date</th>\n",
       "      <th>Close</th>\n",
       "      <th>High</th>\n",
       "      <th>Low</th>\n",
       "      <th>Open</th>\n",
       "      <th>Volume</th>\n",
       "      <th>two_day_pct_change</th>\n",
       "      <th>earnings_date</th>\n",
       "      <th>surprise_(%)</th>\n",
       "    </tr>\n",
       "  </thead>\n",
       "  <tbody>\n",
       "    <tr>\n",
       "      <th>0</th>\n",
       "      <td>1997-07-10</td>\n",
       "      <td>0.128125</td>\n",
       "      <td>0.128646</td>\n",
       "      <td>0.116667</td>\n",
       "      <td>0.116667</td>\n",
       "      <td>181032000</td>\n",
       "      <td>-0.166665</td>\n",
       "      <td>1997-07-10</td>\n",
       "      <td>13.33</td>\n",
       "    </tr>\n",
       "    <tr>\n",
       "      <th>1</th>\n",
       "      <td>1997-10-27</td>\n",
       "      <td>0.213542</td>\n",
       "      <td>0.250521</td>\n",
       "      <td>0.211458</td>\n",
       "      <td>0.240104</td>\n",
       "      <td>121824000</td>\n",
       "      <td>0.262192</td>\n",
       "      <td>1997-10-27</td>\n",
       "      <td>13.29</td>\n",
       "    </tr>\n",
       "    <tr>\n",
       "      <th>2</th>\n",
       "      <td>1998-01-22</td>\n",
       "      <td>0.256771</td>\n",
       "      <td>0.263542</td>\n",
       "      <td>0.251042</td>\n",
       "      <td>0.253646</td>\n",
       "      <td>189432000</td>\n",
       "      <td>-0.062881</td>\n",
       "      <td>1998-01-22</td>\n",
       "      <td>11.41</td>\n",
       "    </tr>\n",
       "    <tr>\n",
       "      <th>3</th>\n",
       "      <td>1998-04-27</td>\n",
       "      <td>0.344792</td>\n",
       "      <td>0.352604</td>\n",
       "      <td>0.321354</td>\n",
       "      <td>0.347396</td>\n",
       "      <td>377712000</td>\n",
       "      <td>0.154078</td>\n",
       "      <td>1998-04-27</td>\n",
       "      <td>13.92</td>\n",
       "    </tr>\n",
       "    <tr>\n",
       "      <th>4</th>\n",
       "      <td>1998-07-22</td>\n",
       "      <td>1.116667</td>\n",
       "      <td>1.165625</td>\n",
       "      <td>1.087500</td>\n",
       "      <td>1.116667</td>\n",
       "      <td>559488000</td>\n",
       "      <td>-0.072761</td>\n",
       "      <td>1998-07-22</td>\n",
       "      <td>1.34</td>\n",
       "    </tr>\n",
       "  </tbody>\n",
       "</table>\n",
       "</div>"
      ],
      "text/plain": [
       "        Date     Close      High       Low      Open     Volume  \\\n",
       "0 1997-07-10  0.128125  0.128646  0.116667  0.116667  181032000   \n",
       "1 1997-10-27  0.213542  0.250521  0.211458  0.240104  121824000   \n",
       "2 1998-01-22  0.256771  0.263542  0.251042  0.253646  189432000   \n",
       "3 1998-04-27  0.344792  0.352604  0.321354  0.347396  377712000   \n",
       "4 1998-07-22  1.116667  1.165625  1.087500  1.116667  559488000   \n",
       "\n",
       "   two_day_pct_change earnings_date  surprise_(%)  \n",
       "0           -0.166665    1997-07-10         13.33  \n",
       "1            0.262192    1997-10-27         13.29  \n",
       "2           -0.062881    1998-01-22         11.41  \n",
       "3            0.154078    1998-04-27         13.92  \n",
       "4           -0.072761    1998-07-22          1.34  "
      ]
     },
     "execution_count": 134,
     "metadata": {},
     "output_type": "execute_result"
    }
   ],
   "source": [
    "\n",
    "# Merge earnings with daily stock prices\n",
    "amazon_positive = pd.merge(amzn_daily_df, \n",
    "                           amazon_earnings_positive[[\"earnings_date\", \"surprise_(%)\"]], \n",
    "                           left_on = 'Date', \n",
    "                           right_on='earnings_date', \n",
    "                           how='inner')\n",
    "\n",
    "amazon_positive.head()\n",
    "\n"
   ]
  },
  {
   "cell_type": "code",
   "execution_count": 136,
   "id": "6491ba5e",
   "metadata": {},
   "outputs": [
    {
     "data": {
      "text/plain": [
       "count    86.000000\n",
       "mean      0.019558\n",
       "std       0.124346\n",
       "min      -0.281971\n",
       "25%      -0.070554\n",
       "50%       0.002672\n",
       "75%       0.106222\n",
       "max       0.402905\n",
       "Name: two_day_pct_change, dtype: float64"
      ]
     },
     "execution_count": 136,
     "metadata": {},
     "output_type": "execute_result"
    }
   ],
   "source": [
    "\n",
    "amazon_positive['two_day_pct_change'].describe()"
   ]
  },
  {
   "cell_type": "code",
   "execution_count": null,
   "id": "6c05d8ca",
   "metadata": {},
   "outputs": [
    {
     "data": {
      "text/plain": [
       "0.002672266474036067"
      ]
     },
     "execution_count": 138,
     "metadata": {},
     "output_type": "execute_result"
    }
   ],
   "source": [
    "# Calculate 2-day percentage change median\n",
    "amazon_positive['two_day_pct_change'].median()"
   ]
  },
  {
   "cell_type": "code",
   "execution_count": 143,
   "id": "760843cd",
   "metadata": {},
   "outputs": [
    {
     "data": {
      "text/plain": [
       "0.0016375198550677705"
      ]
     },
     "execution_count": 143,
     "metadata": {},
     "output_type": "execute_result"
    }
   ],
   "source": [
    "# Calculate 2-day percentage change median\n",
    "amzn_daily_df['two_day_pct_change'].median()"
   ]
  },
  {
   "cell_type": "markdown",
   "id": "0ac9da07",
   "metadata": {},
   "source": []
  }
 ],
 "metadata": {
  "kernelspec": {
   "display_name": "base",
   "language": "python",
   "name": "python3"
  },
  "language_info": {
   "codemirror_mode": {
    "name": "ipython",
    "version": 3
   },
   "file_extension": ".py",
   "mimetype": "text/x-python",
   "name": "python",
   "nbconvert_exporter": "python",
   "pygments_lexer": "ipython3",
   "version": "3.12.4"
  }
 },
 "nbformat": 4,
 "nbformat_minor": 5
}
